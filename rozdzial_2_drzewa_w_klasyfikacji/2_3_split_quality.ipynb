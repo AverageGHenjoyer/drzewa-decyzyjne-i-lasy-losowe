{
 "cells": [
  {
   "metadata": {},
   "cell_type": "markdown",
   "source": [
    "# 2.3 Pomiar jakości podziału\n",
    "Skąd możemy mieć gwarancję, że wybrano najlepszą cechę i najlepszą wartość dla podziału? Oczywiście mamy sposoby, żeby zmierzyć nasz wybór i porównać go z innymi możliwymi do dokonania na tym etapie.\n",
    "\n",
    "Przejdziemy przez schemat tworzenia drzewa w bardzo prostym przypadku. Do tego celu stworzymy zbiór danych opisujący skuteczność pewnego leku na chorobę X, w zależności od użytej dawki. Będziemy więc rozpatrywać przypadek dwuwymiarowy, który dodatkowo zostanie wygenerowany losowo."
   ],
   "id": "3c89c67efb533047"
  },
  {
   "cell_type": "code",
   "id": "initial_id",
   "metadata": {
    "collapsed": true,
    "ExecuteTime": {
     "end_time": "2024-09-05T10:11:07.086363Z",
     "start_time": "2024-09-05T10:11:06.788980Z"
    }
   },
   "source": [
    "import numpy as np\n",
    "import pandas as pd"
   ],
   "outputs": [],
   "execution_count": 1
  },
  {
   "metadata": {
    "ExecuteTime": {
     "end_time": "2024-09-05T10:13:30.984494Z",
     "start_time": "2024-09-05T10:13:30.968731Z"
    }
   },
   "cell_type": "code",
   "source": [
    "np.random.seed(135)\n",
    "\n",
    "patients_df = pd.DataFrame({\n",
    "    \"dosage_mg\": 10 * np.random.random(size=25)\n",
    "})\n",
    "patients_df.sample(5)"
   ],
   "id": "a72232e02371428f",
   "outputs": [
    {
     "data": {
      "text/plain": [
       "    dosage_mg\n",
       "10   3.733196\n",
       "14   0.330930\n",
       "22   3.186789\n",
       "13   1.740597\n",
       "2    1.953982"
      ],
      "text/html": [
       "<div>\n",
       "<style scoped>\n",
       "    .dataframe tbody tr th:only-of-type {\n",
       "        vertical-align: middle;\n",
       "    }\n",
       "\n",
       "    .dataframe tbody tr th {\n",
       "        vertical-align: top;\n",
       "    }\n",
       "\n",
       "    .dataframe thead th {\n",
       "        text-align: right;\n",
       "    }\n",
       "</style>\n",
       "<table border=\"1\" class=\"dataframe\">\n",
       "  <thead>\n",
       "    <tr style=\"text-align: right;\">\n",
       "      <th></th>\n",
       "      <th>dosage_mg</th>\n",
       "    </tr>\n",
       "  </thead>\n",
       "  <tbody>\n",
       "    <tr>\n",
       "      <th>10</th>\n",
       "      <td>3.733196</td>\n",
       "    </tr>\n",
       "    <tr>\n",
       "      <th>14</th>\n",
       "      <td>0.330930</td>\n",
       "    </tr>\n",
       "    <tr>\n",
       "      <th>22</th>\n",
       "      <td>3.186789</td>\n",
       "    </tr>\n",
       "    <tr>\n",
       "      <th>13</th>\n",
       "      <td>1.740597</td>\n",
       "    </tr>\n",
       "    <tr>\n",
       "      <th>2</th>\n",
       "      <td>1.953982</td>\n",
       "    </tr>\n",
       "  </tbody>\n",
       "</table>\n",
       "</div>"
      ]
     },
     "execution_count": 2,
     "metadata": {},
     "output_type": "execute_result"
    }
   ],
   "execution_count": 2
  },
  {
   "metadata": {},
   "cell_type": "markdown",
   "source": "Nasz zbiór jest sztucznie wygenerowany, co oznacza, że to my ustalamy zasady. W związku z tym ustalmy, że lek jest skuteczny powyżej pewnej dawki, ale jeśli przesadzimy, to znowu przestaje być skuteczny.",
   "id": "697ecb4e709b712e"
  },
  {
   "metadata": {
    "ExecuteTime": {
     "end_time": "2024-09-05T10:15:04.097546Z",
     "start_time": "2024-09-05T10:15:04.093051Z"
    }
   },
   "cell_type": "code",
   "source": [
    "recovered = (3.7 < patients_df[\"dosage_mg\"]) & (patients_df[\"dosage_mg\"] < 6.54)\n",
    "recovered"
   ],
   "id": "ad29ffe78b630c18",
   "outputs": [
    {
     "data": {
      "text/plain": [
       "0     False\n",
       "1     False\n",
       "2     False\n",
       "3     False\n",
       "4     False\n",
       "5     False\n",
       "6      True\n",
       "7     False\n",
       "8     False\n",
       "9     False\n",
       "10     True\n",
       "11    False\n",
       "12     True\n",
       "13    False\n",
       "14    False\n",
       "15     True\n",
       "16    False\n",
       "17    False\n",
       "18    False\n",
       "19    False\n",
       "20    False\n",
       "21    False\n",
       "22    False\n",
       "23    False\n",
       "24     True\n",
       "Name: dosage_mg, dtype: bool"
      ]
     },
     "execution_count": 3,
     "metadata": {},
     "output_type": "execute_result"
    }
   ],
   "execution_count": 3
  },
  {
   "metadata": {
    "ExecuteTime": {
     "end_time": "2024-09-05T10:18:01.505657Z",
     "start_time": "2024-09-05T10:18:01.079440Z"
    }
   },
   "cell_type": "code",
   "source": [
    "patients_df[\"recovered\"] = recovered.astype(int)\n",
    "patients_df.plot.scatter(x=\"dosage_mg\", y=\"recovered\", c=\"recovered\", cmap=\"Set1\", figsize=(10, 7.5), colorbar=False)"
   ],
   "id": "889a8ef981617e8f",
   "outputs": [
    {
     "data": {
      "text/plain": [
       "<Axes: xlabel='dosage_mg', ylabel='recovered'>"
      ]
     },
     "execution_count": 4,
     "metadata": {},
     "output_type": "execute_result"
    },
    {
     "data": {
      "text/plain": [
       "<Figure size 1000x750 with 1 Axes>"
      ],
      "image/png": "[encoded data removed]"
     },
     "metadata": {},
     "output_type": "display_data"
    }
   ],
   "execution_count": 4
  },
  {
   "metadata": {},
   "cell_type": "markdown",
   "source": [
    "## Szukanie najlepszych warunków dla drzewa\n",
    "W trakcie procesu uczenia drzewa decyzyjnego dla klasyfikacji, kluczowym jest odnalezienie takich warunków, które jak najlepiej odseparują nam obserwacje należące do różnych grup. W naszym przypadku znamy prawidłowe zależności w danych, ale typowo potrzebujemy je odnaleźć. Dość istotne są następujące fakty:\n",
    "* Każdy warunek w drzewie decyzyjnym, dzieli aktualny zbiór obserwacji na dwie części, niekoniecznie równoliczne.\n",
    "* Jednorazowo rozpatrujemy tylko jeden wymiar danych\n",
    "* Każdy podział tworzy nam dwa osobne poddrzewa, niezależne od poprzednich działań\n",
    "\n",
    "W związku z tym, typowy proces będzie po pierwsze wymagał wyboru cechym na podstawie której chcemy dokonać podziału, a następnie wyboru granicznej wartości, która znajdzie się w warunku. W naszym przypadku jest tylko jedna cecha, więc z automatu jest ona najlepszym kryterium podziału.\n",
    "\n",
    "Gdy już dokonamy wyboru cechy, to właściwie rozpatrujemy przypadek jednowymiarowy. W przypadku danych numerycznych będziemy po prostu sortować wszystkie wartości w danej kolumnie i po kolei rozpatrywać punkty pośrednie pomiędzy parami punktów (tak, aby żaden punkt danych nie leżał na granicy decyzji, dzięki czemu możemy wykorzystać tylko ostrą nierówność). W jaki jednak sposób określić, który punkt podziału jest najlepszy?\n",
    "\n",
    "### Pomiar jakości podziału\n",
    "Na każdym poziomie drzewa mamy pewien podzbiór oryginalnych obserwacji. Możemy opisać jak jednorodny jest to podzbiór, obliczając proporcję elementów należących do klasy k w następujący sposób:\n",
    "\n",
    "pk = (suma od i=0 do N-1 I(yi = k)) / N\n",
    "\n",
    "Innymi słowy, jest to procent obserwacji należących do danej klasy. W przypadku drzewa możemy dodatkowo ponumerować wszystkie rozgałęzienia (węzły) i obliczyć tę proporcję w następujący sposób:\n",
    "\n",
    "pmk = (suma xi należy do Rm z I(yi = k)) / Nm\n",
    "\n",
    "Gdzie m jest indeksem danego węzła, Nm liczbą obserwacji w tym poddrzewie, a Rm to zbiór tych obserwacji.\n",
    "\n",
    "Tworząc drzewo, przeglądamy kolejne możliwe wartości podziału w danym wymiarze, a także niejawnie tworzymy lewe i prawe poddrzewa sprawdzając przy tym wartość tzw. impurity measure, czyli funkcji nieczystości, starając się zminimalizować jej wartość. O tych funkcjach będzie trochę później - na razie zobaczmy jak będzie zmieniać się proporcja w zależności od wybranego punktu podziału, dla naszego przykładu"
   ],
   "id": "96c6038d854cd43e"
  },
  {
   "metadata": {},
   "cell_type": "markdown",
   "source": [
    "### Jakość podziału w przypadku różnych dawek leku\n",
    "Nasz zbiór składa się z 25 punktów danych, a każdy z nich opisuje inną dawkę leku. Pomiędzy tymi punktami istnieje więc 24 punkty pośrednie, które będziemy rozpatrywać jako kolejne granice. Prześledzimy jak kształtują się wartości proporcji dla poszczególnych podziałów. Zacznijmy jednak od obliczenia proporcji całego zbioru."
   ],
   "id": "5782a24060bc1d3"
  },
  {
   "metadata": {
    "ExecuteTime": {
     "end_time": "2024-09-05T10:56:24.990298Z",
     "start_time": "2024-09-05T10:56:24.984935Z"
    }
   },
   "cell_type": "code",
   "source": "patients_df",
   "id": "783e34a5ecee0b1b",
   "outputs": [
    {
     "data": {
      "text/plain": [
       "    dosage_mg  recovered\n",
       "0    6.613289          0\n",
       "1    3.276947          0\n",
       "2    1.953982          0\n",
       "3    8.629823          0\n",
       "4    7.821323          0\n",
       "5    1.575420          0\n",
       "6    5.206057          1\n",
       "7    9.639556          0\n",
       "8    0.525559          0\n",
       "9    9.302636          0\n",
       "10   3.733196          1\n",
       "11   1.276631          0\n",
       "12   3.761158          1\n",
       "13   1.740597          0\n",
       "14   0.330930          0\n",
       "15   6.202892          1\n",
       "16   9.972520          0\n",
       "17   7.280976          0\n",
       "18   0.410895          0\n",
       "19   7.686550          0\n",
       "20   2.663473          0\n",
       "21   1.611364          0\n",
       "22   3.186789          0\n",
       "23   9.218442          0\n",
       "24   5.822586          1"
      ],
      "text/html": [
       "<div>\n",
       "<style scoped>\n",
       "    .dataframe tbody tr th:only-of-type {\n",
       "        vertical-align: middle;\n",
       "    }\n",
       "\n",
       "    .dataframe tbody tr th {\n",
       "        vertical-align: top;\n",
       "    }\n",
       "\n",
       "    .dataframe thead th {\n",
       "        text-align: right;\n",
       "    }\n",
       "</style>\n",
       "<table border=\"1\" class=\"dataframe\">\n",
       "  <thead>\n",
       "    <tr style=\"text-align: right;\">\n",
       "      <th></th>\n",
       "      <th>dosage_mg</th>\n",
       "      <th>recovered</th>\n",
       "    </tr>\n",
       "  </thead>\n",
       "  <tbody>\n",
       "    <tr>\n",
       "      <th>0</th>\n",
       "      <td>6.613289</td>\n",
       "      <td>0</td>\n",
       "    </tr>\n",
       "    <tr>\n",
       "      <th>1</th>\n",
       "      <td>3.276947</td>\n",
       "      <td>0</td>\n",
       "    </tr>\n",
       "    <tr>\n",
       "      <th>2</th>\n",
       "      <td>1.953982</td>\n",
       "      <td>0</td>\n",
       "    </tr>\n",
       "    <tr>\n",
       "      <th>3</th>\n",
       "      <td>8.629823</td>\n",
       "      <td>0</td>\n",
       "    </tr>\n",
       "    <tr>\n",
       "      <th>4</th>\n",
       "      <td>7.821323</td>\n",
       "      <td>0</td>\n",
       "    </tr>\n",
       "    <tr>\n",
       "      <th>5</th>\n",
       "      <td>1.575420</td>\n",
       "      <td>0</td>\n",
       "    </tr>\n",
       "    <tr>\n",
       "      <th>6</th>\n",
       "      <td>5.206057</td>\n",
       "      <td>1</td>\n",
       "    </tr>\n",
       "    <tr>\n",
       "      <th>7</th>\n",
       "      <td>9.639556</td>\n",
       "      <td>0</td>\n",
       "    </tr>\n",
       "    <tr>\n",
       "      <th>8</th>\n",
       "      <td>0.525559</td>\n",
       "      <td>0</td>\n",
       "    </tr>\n",
       "    <tr>\n",
       "      <th>9</th>\n",
       "      <td>9.302636</td>\n",
       "      <td>0</td>\n",
       "    </tr>\n",
       "    <tr>\n",
       "      <th>10</th>\n",
       "      <td>3.733196</td>\n",
       "      <td>1</td>\n",
       "    </tr>\n",
       "    <tr>\n",
       "      <th>11</th>\n",
       "      <td>1.276631</td>\n",
       "      <td>0</td>\n",
       "    </tr>\n",
       "    <tr>\n",
       "      <th>12</th>\n",
       "      <td>3.761158</td>\n",
       "      <td>1</td>\n",
       "    </tr>\n",
       "    <tr>\n",
       "      <th>13</th>\n",
       "      <td>1.740597</td>\n",
       "      <td>0</td>\n",
       "    </tr>\n",
       "    <tr>\n",
       "      <th>14</th>\n",
       "      <td>0.330930</td>\n",
       "      <td>0</td>\n",
       "    </tr>\n",
       "    <tr>\n",
       "      <th>15</th>\n",
       "      <td>6.202892</td>\n",
       "      <td>1</td>\n",
       "    </tr>\n",
       "    <tr>\n",
       "      <th>16</th>\n",
       "      <td>9.972520</td>\n",
       "      <td>0</td>\n",
       "    </tr>\n",
       "    <tr>\n",
       "      <th>17</th>\n",
       "      <td>7.280976</td>\n",
       "      <td>0</td>\n",
       "    </tr>\n",
       "    <tr>\n",
       "      <th>18</th>\n",
       "      <td>0.410895</td>\n",
       "      <td>0</td>\n",
       "    </tr>\n",
       "    <tr>\n",
       "      <th>19</th>\n",
       "      <td>7.686550</td>\n",
       "      <td>0</td>\n",
       "    </tr>\n",
       "    <tr>\n",
       "      <th>20</th>\n",
       "      <td>2.663473</td>\n",
       "      <td>0</td>\n",
       "    </tr>\n",
       "    <tr>\n",
       "      <th>21</th>\n",
       "      <td>1.611364</td>\n",
       "      <td>0</td>\n",
       "    </tr>\n",
       "    <tr>\n",
       "      <th>22</th>\n",
       "      <td>3.186789</td>\n",
       "      <td>0</td>\n",
       "    </tr>\n",
       "    <tr>\n",
       "      <th>23</th>\n",
       "      <td>9.218442</td>\n",
       "      <td>0</td>\n",
       "    </tr>\n",
       "    <tr>\n",
       "      <th>24</th>\n",
       "      <td>5.822586</td>\n",
       "      <td>1</td>\n",
       "    </tr>\n",
       "  </tbody>\n",
       "</table>\n",
       "</div>"
      ]
     },
     "execution_count": 7,
     "metadata": {},
     "output_type": "execute_result"
    }
   ],
   "execution_count": 7
  },
  {
   "metadata": {
    "ExecuteTime": {
     "end_time": "2024-09-05T10:46:05.577033Z",
     "start_time": "2024-09-05T10:46:05.572563Z"
    }
   },
   "cell_type": "code",
   "source": [
    "def p(y, class_names):\n",
    "    prob = []\n",
    "    for class_name in class_names:\n",
    "        try:\n",
    "            prob.append(y[y == class_name].shape[0] / y.shape[0])\n",
    "        except ZeroDivisionError:\n",
    "            prob.append(0.0)\n",
    "    return np.array(prob)"
   ],
   "id": "d5af9bd44819b57c",
   "outputs": [],
   "execution_count": 5
  },
  {
   "metadata": {
    "ExecuteTime": {
     "end_time": "2024-09-05T10:46:20.735961Z",
     "start_time": "2024-09-05T10:46:20.729707Z"
    }
   },
   "cell_type": "code",
   "source": "p(patients_df[\"recovered\"], [0, 1])",
   "id": "eee0d23c3cf9700c",
   "outputs": [
    {
     "data": {
      "text/plain": [
       "array([0.8, 0.2])"
      ]
     },
     "execution_count": 6,
     "metadata": {},
     "output_type": "execute_result"
    }
   ],
   "execution_count": 6
  },
  {
   "metadata": {},
   "cell_type": "markdown",
   "source": "Wynik się oczywiście zgadza, ponieważ mamy 20 na 25 próbek z fałszem (zerami) i 5 z 25 z prawdą (jedynkami), czyli 4/5 + 1/5 == 0.8 i 0.2",
   "id": "3f436c207fe6abb"
  },
  {
   "metadata": {
    "ExecuteTime": {
     "end_time": "2024-09-05T11:00:48.721150Z",
     "start_time": "2024-09-05T11:00:48.709395Z"
    }
   },
   "cell_type": "code",
   "source": [
    "sorted_patients_df = patients_df.sort_values(\"dosage_mg\", ascending=True)\n",
    "sorted_patients_df.head()"
   ],
   "id": "fd9c0e1162046336",
   "outputs": [
    {
     "data": {
      "text/plain": [
       "    dosage_mg  recovered\n",
       "14   0.330930          0\n",
       "18   0.410895          0\n",
       "8    0.525559          0\n",
       "11   1.276631          0\n",
       "5    1.575420          0"
      ],
      "text/html": [
       "<div>\n",
       "<style scoped>\n",
       "    .dataframe tbody tr th:only-of-type {\n",
       "        vertical-align: middle;\n",
       "    }\n",
       "\n",
       "    .dataframe tbody tr th {\n",
       "        vertical-align: top;\n",
       "    }\n",
       "\n",
       "    .dataframe thead th {\n",
       "        text-align: right;\n",
       "    }\n",
       "</style>\n",
       "<table border=\"1\" class=\"dataframe\">\n",
       "  <thead>\n",
       "    <tr style=\"text-align: right;\">\n",
       "      <th></th>\n",
       "      <th>dosage_mg</th>\n",
       "      <th>recovered</th>\n",
       "    </tr>\n",
       "  </thead>\n",
       "  <tbody>\n",
       "    <tr>\n",
       "      <th>14</th>\n",
       "      <td>0.330930</td>\n",
       "      <td>0</td>\n",
       "    </tr>\n",
       "    <tr>\n",
       "      <th>18</th>\n",
       "      <td>0.410895</td>\n",
       "      <td>0</td>\n",
       "    </tr>\n",
       "    <tr>\n",
       "      <th>8</th>\n",
       "      <td>0.525559</td>\n",
       "      <td>0</td>\n",
       "    </tr>\n",
       "    <tr>\n",
       "      <th>11</th>\n",
       "      <td>1.276631</td>\n",
       "      <td>0</td>\n",
       "    </tr>\n",
       "    <tr>\n",
       "      <th>5</th>\n",
       "      <td>1.575420</td>\n",
       "      <td>0</td>\n",
       "    </tr>\n",
       "  </tbody>\n",
       "</table>\n",
       "</div>"
      ]
     },
     "execution_count": 8,
     "metadata": {},
     "output_type": "execute_result"
    }
   ],
   "execution_count": 8
  },
  {
   "metadata": {
    "ExecuteTime": {
     "end_time": "2024-09-05T11:02:34.146547Z",
     "start_time": "2024-09-05T11:02:34.135982Z"
    }
   },
   "cell_type": "code",
   "source": [
    "thresholds = sorted_patients_df[\"dosage_mg\"].rolling(2).mean()\n",
    "thresholds"
   ],
   "id": "bd8700bded3fa60c",
   "outputs": [
    {
     "data": {
      "text/plain": [
       "14         NaN\n",
       "18    0.370912\n",
       "8     0.468227\n",
       "11    0.901095\n",
       "5     1.426026\n",
       "21    1.593392\n",
       "13    1.675980\n",
       "2     1.847289\n",
       "20    2.308727\n",
       "22    2.925131\n",
       "1     3.231868\n",
       "10    3.505071\n",
       "12    3.747177\n",
       "6     4.483607\n",
       "24    5.514322\n",
       "15    6.012739\n",
       "0     6.408091\n",
       "17    6.947133\n",
       "19    7.483763\n",
       "4     7.753936\n",
       "3     8.225573\n",
       "23    8.924132\n",
       "9     9.260539\n",
       "7     9.471096\n",
       "16    9.806038\n",
       "Name: dosage_mg, dtype: float64"
      ]
     },
     "execution_count": 9,
     "metadata": {},
     "output_type": "execute_result"
    }
   ],
   "execution_count": 9
  },
  {
   "metadata": {
    "ExecuteTime": {
     "end_time": "2024-09-05T11:07:19.521761Z",
     "start_time": "2024-09-05T11:07:19.469608Z"
    }
   },
   "cell_type": "code",
   "source": [
    "def filter_patients(threshold):\n",
    "    return patients_df[patients_df[\"dosage_mg\"] <= threshold][\"recovered\"]\n",
    "\n",
    "proportions_df = pd.DataFrame({\n",
    "    \"threshold\": thresholds.dropna()\n",
    "})\n",
    "proportions_df[\"positive_proportion\"] = thresholds.map(lambda t: p(filter_patients(t), [1]) [0])\n",
    "proportions_df[\"negative_proportion\"] = thresholds.map(lambda t: p(filter_patients(t), [0]) [0])"
   ],
   "id": "d4545bc7864c8fda",
   "outputs": [],
   "execution_count": 10
  },
  {
   "metadata": {
    "ExecuteTime": {
     "end_time": "2024-09-05T11:07:22.316238Z",
     "start_time": "2024-09-05T11:07:22.300467Z"
    }
   },
   "cell_type": "code",
   "source": "proportions_df",
   "id": "9f2df7f4aca35a66",
   "outputs": [
    {
     "data": {
      "text/plain": [
       "    threshold  positive_proportion  negative_proportion\n",
       "18   0.370912             0.000000             1.000000\n",
       "8    0.468227             0.000000             1.000000\n",
       "11   0.901095             0.000000             1.000000\n",
       "5    1.426026             0.000000             1.000000\n",
       "21   1.593392             0.000000             1.000000\n",
       "13   1.675980             0.000000             1.000000\n",
       "2    1.847289             0.000000             1.000000\n",
       "20   2.308727             0.000000             1.000000\n",
       "22   2.925131             0.000000             1.000000\n",
       "1    3.231868             0.000000             1.000000\n",
       "10   3.505071             0.000000             1.000000\n",
       "12   3.747177             0.083333             0.916667\n",
       "6    4.483607             0.153846             0.846154\n",
       "24   5.514322             0.214286             0.785714\n",
       "15   6.012739             0.266667             0.733333\n",
       "0    6.408091             0.312500             0.687500\n",
       "17   6.947133             0.294118             0.705882\n",
       "19   7.483763             0.277778             0.722222\n",
       "4    7.753936             0.263158             0.736842\n",
       "3    8.225573             0.250000             0.750000\n",
       "23   8.924132             0.238095             0.761905\n",
       "9    9.260539             0.227273             0.772727\n",
       "7    9.471096             0.217391             0.782609\n",
       "16   9.806038             0.208333             0.791667"
      ],
      "text/html": [
       "<div>\n",
       "<style scoped>\n",
       "    .dataframe tbody tr th:only-of-type {\n",
       "        vertical-align: middle;\n",
       "    }\n",
       "\n",
       "    .dataframe tbody tr th {\n",
       "        vertical-align: top;\n",
       "    }\n",
       "\n",
       "    .dataframe thead th {\n",
       "        text-align: right;\n",
       "    }\n",
       "</style>\n",
       "<table border=\"1\" class=\"dataframe\">\n",
       "  <thead>\n",
       "    <tr style=\"text-align: right;\">\n",
       "      <th></th>\n",
       "      <th>threshold</th>\n",
       "      <th>positive_proportion</th>\n",
       "      <th>negative_proportion</th>\n",
       "    </tr>\n",
       "  </thead>\n",
       "  <tbody>\n",
       "    <tr>\n",
       "      <th>18</th>\n",
       "      <td>0.370912</td>\n",
       "      <td>0.000000</td>\n",
       "      <td>1.000000</td>\n",
       "    </tr>\n",
       "    <tr>\n",
       "      <th>8</th>\n",
       "      <td>0.468227</td>\n",
       "      <td>0.000000</td>\n",
       "      <td>1.000000</td>\n",
       "    </tr>\n",
       "    <tr>\n",
       "      <th>11</th>\n",
       "      <td>0.901095</td>\n",
       "      <td>0.000000</td>\n",
       "      <td>1.000000</td>\n",
       "    </tr>\n",
       "    <tr>\n",
       "      <th>5</th>\n",
       "      <td>1.426026</td>\n",
       "      <td>0.000000</td>\n",
       "      <td>1.000000</td>\n",
       "    </tr>\n",
       "    <tr>\n",
       "      <th>21</th>\n",
       "      <td>1.593392</td>\n",
       "      <td>0.000000</td>\n",
       "      <td>1.000000</td>\n",
       "    </tr>\n",
       "    <tr>\n",
       "      <th>13</th>\n",
       "      <td>1.675980</td>\n",
       "      <td>0.000000</td>\n",
       "      <td>1.000000</td>\n",
       "    </tr>\n",
       "    <tr>\n",
       "      <th>2</th>\n",
       "      <td>1.847289</td>\n",
       "      <td>0.000000</td>\n",
       "      <td>1.000000</td>\n",
       "    </tr>\n",
       "    <tr>\n",
       "      <th>20</th>\n",
       "      <td>2.308727</td>\n",
       "      <td>0.000000</td>\n",
       "      <td>1.000000</td>\n",
       "    </tr>\n",
       "    <tr>\n",
       "      <th>22</th>\n",
       "      <td>2.925131</td>\n",
       "      <td>0.000000</td>\n",
       "      <td>1.000000</td>\n",
       "    </tr>\n",
       "    <tr>\n",
       "      <th>1</th>\n",
       "      <td>3.231868</td>\n",
       "      <td>0.000000</td>\n",
       "      <td>1.000000</td>\n",
       "    </tr>\n",
       "    <tr>\n",
       "      <th>10</th>\n",
       "      <td>3.505071</td>\n",
       "      <td>0.000000</td>\n",
       "      <td>1.000000</td>\n",
       "    </tr>\n",
       "    <tr>\n",
       "      <th>12</th>\n",
       "      <td>3.747177</td>\n",
       "      <td>0.083333</td>\n",
       "      <td>0.916667</td>\n",
       "    </tr>\n",
       "    <tr>\n",
       "      <th>6</th>\n",
       "      <td>4.483607</td>\n",
       "      <td>0.153846</td>\n",
       "      <td>0.846154</td>\n",
       "    </tr>\n",
       "    <tr>\n",
       "      <th>24</th>\n",
       "      <td>5.514322</td>\n",
       "      <td>0.214286</td>\n",
       "      <td>0.785714</td>\n",
       "    </tr>\n",
       "    <tr>\n",
       "      <th>15</th>\n",
       "      <td>6.012739</td>\n",
       "      <td>0.266667</td>\n",
       "      <td>0.733333</td>\n",
       "    </tr>\n",
       "    <tr>\n",
       "      <th>0</th>\n",
       "      <td>6.408091</td>\n",
       "      <td>0.312500</td>\n",
       "      <td>0.687500</td>\n",
       "    </tr>\n",
       "    <tr>\n",
       "      <th>17</th>\n",
       "      <td>6.947133</td>\n",
       "      <td>0.294118</td>\n",
       "      <td>0.705882</td>\n",
       "    </tr>\n",
       "    <tr>\n",
       "      <th>19</th>\n",
       "      <td>7.483763</td>\n",
       "      <td>0.277778</td>\n",
       "      <td>0.722222</td>\n",
       "    </tr>\n",
       "    <tr>\n",
       "      <th>4</th>\n",
       "      <td>7.753936</td>\n",
       "      <td>0.263158</td>\n",
       "      <td>0.736842</td>\n",
       "    </tr>\n",
       "    <tr>\n",
       "      <th>3</th>\n",
       "      <td>8.225573</td>\n",
       "      <td>0.250000</td>\n",
       "      <td>0.750000</td>\n",
       "    </tr>\n",
       "    <tr>\n",
       "      <th>23</th>\n",
       "      <td>8.924132</td>\n",
       "      <td>0.238095</td>\n",
       "      <td>0.761905</td>\n",
       "    </tr>\n",
       "    <tr>\n",
       "      <th>9</th>\n",
       "      <td>9.260539</td>\n",
       "      <td>0.227273</td>\n",
       "      <td>0.772727</td>\n",
       "    </tr>\n",
       "    <tr>\n",
       "      <th>7</th>\n",
       "      <td>9.471096</td>\n",
       "      <td>0.217391</td>\n",
       "      <td>0.782609</td>\n",
       "    </tr>\n",
       "    <tr>\n",
       "      <th>16</th>\n",
       "      <td>9.806038</td>\n",
       "      <td>0.208333</td>\n",
       "      <td>0.791667</td>\n",
       "    </tr>\n",
       "  </tbody>\n",
       "</table>\n",
       "</div>"
      ]
     },
     "execution_count": 11,
     "metadata": {},
     "output_type": "execute_result"
    }
   ],
   "execution_count": 11
  },
  {
   "metadata": {
    "ExecuteTime": {
     "end_time": "2024-09-05T11:10:05.560614Z",
     "start_time": "2024-09-05T11:10:05.346287Z"
    }
   },
   "cell_type": "code",
   "source": [
    "ax = patients_df.plot.scatter(x=\"dosage_mg\", y=\"recovered\", c=\"recovered\", cmap=\"Set1\", figsize=(12.5, 7.5), colorbar=False)\n",
    "proportions_df.plot.line(x=\"threshold\", y=\"positive_proportion\", c=\"blue\", ax=ax)\n",
    "proportions_df.plot.line(x=\"threshold\", y=\"negative_proportion\", c=\"red\", ax=ax)"
   ],
   "id": "cb0202b2799f72a5",
   "outputs": [
    {
     "data": {
      "text/plain": [
       "<Axes: xlabel='threshold', ylabel='recovered'>"
      ]
     },
     "execution_count": 12,
     "metadata": {},
     "output_type": "execute_result"
    },
    {
     "data": {
      "text/plain": [
       "<Figure size 1250x750 with 1 Axes>"
      ],
      "image/png": "[encoded data removed]"
     },
     "metadata": {},
     "output_type": "display_data"
    }
   ],
   "execution_count": 12
  },
  {
   "metadata": {},
   "cell_type": "markdown",
   "source": "Nasz zbiór zawiera dwie klasy, a my chcemy znaleźć taki podział, który pozwoli nam rozpoznawać obie. Szukamy zatem balansu, a do tego obliczenie proporcji",
   "id": "d2e18724124122c2"
  }
 ],
 "metadata": {
  "kernelspec": {
   "display_name": "Python 3",
   "language": "python",
   "name": "python3"
  },
  "language_info": {
   "codemirror_mode": {
    "name": "ipython",
    "version": 2
   },
   "file_extension": ".py",
   "mimetype": "text/x-python",
   "name": "python",
   "nbconvert_exporter": "python",
   "pygments_lexer": "ipython2",
   "version": "2.7.6"
  }
 },
 "nbformat": 4,
 "nbformat_minor": 5
}
