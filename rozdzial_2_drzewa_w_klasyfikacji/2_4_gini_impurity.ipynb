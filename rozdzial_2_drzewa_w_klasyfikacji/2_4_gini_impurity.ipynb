{
 "cells": [
  {
   "metadata": {},
   "cell_type": "markdown",
   "source": [
    "# 2.4. Jakość podziału: Gini impurity\n",
    "Pierwszym i podstawowym sposobem pomiaru jakości podziału jest skorzystanie z tzw. Gini impurity. Jest to metoda dość intuicyjna, ale do jej zdefiniowania powróćmy na chwilę do proporcji, którą obliczaliśmy w poprzednich częściach."
   ],
   "id": "383d80a9811b3d9c"
  },
  {
   "metadata": {},
   "cell_type": "markdown",
   "source": [
    "W danym węźle drzewa obliczamy wartości pmk dla każdej z klas, które chcemy przewidywać. Są to wartości od 0 do 1 i określają jak dużo elementów przypisanych do danej etykiety znajduje się w tym węźle. Gdybyśmy chcieli więc określić jakie jest prawdopodobieństwo, że losując wybierzemy element należący do klasy X,  to musimy obliczyć wartość pmx.\n",
    "\n",
    "Funkcja Gini korzysta z tych wartości, aby określić prawdopodobieństwo, że sklasyfikujemy obserwację nieprawidłowo. Mając dane dla każdej z klas, jesteśmy w stanie w łatwy sposób takie prawdopodobieństwo oszacować.\n",
    "\n",
    "H(Xm) = suma od k pmk (1 - pmk)\n",
    "\n",
    "Intuicyjnie, im mniejsze prawdopodobieństwo nieprawidłowej klasyfikacji, tym lepszy mamy system. Wracając do przykładu drzewa decyzyjnego, w momencie gdy szukamy najlepszego podziału, chcielibyśmy wybrać ten, który daje nam najmniejsze szanse nieprawidłowej klasyfikacji. Wartość Gini impurity możemy zatem bezpośrednio podstawić do wzoru: \n"
   ],
   "id": "a3cc9bcd709b19a9"
  },
  {
   "metadata": {},
   "cell_type": "markdown",
   "source": [
    "## Przykład działania w 2D\n",
    "Ponownie wygenerujemy sobie zbiór w sposób losowy, ale dzięki ustawieniu ziarna generatora liczb pseudolosowych, możemy spodziewać się takich samych wyników."
   ],
   "id": "8a405b97a0576090"
  },
  {
   "metadata": {
    "ExecuteTime": {
     "end_time": "2024-09-06T06:53:23.853708Z",
     "start_time": "2024-09-06T06:53:23.318369Z"
    }
   },
   "cell_type": "code",
   "source": [
    "import numpy as np\n",
    "import pandas as pd"
   ],
   "id": "7062aef32f83267c",
   "outputs": [],
   "execution_count": 2
  },
  {
   "metadata": {
    "ExecuteTime": {
     "end_time": "2024-09-06T07:00:51.862503Z",
     "start_time": "2024-09-06T07:00:51.366041Z"
    }
   },
   "cell_type": "code",
   "source": [
    "np.random.seed(135)\n",
    "\n",
    "patients_df = pd.DataFrame({\n",
    "    \"dosage_mg\": 10 * np.random.random(size=25)\n",
    "})\n",
    "\n",
    "recovered = (3.7 < patients_df[\"dosage_mg\"]) & (patients_df[\"dosage_mg\"] < 6.54)\n",
    "\n",
    "patients_df[\"recovered\"] = recovered.astype(int)\n",
    "patients_df.plot.scatter(x=\"dosage_mg\", y=\"recovered\", c=\"recovered\", cmap=\"Set1\", figsize=(10, 7.5), colorbar=False)"
   ],
   "id": "5c5bde56ebcaddf4",
   "outputs": [
    {
     "data": {
      "text/plain": [
       "<Axes: xlabel='dosage_mg', ylabel='recovered'>"
      ]
     },
     "execution_count": 3,
     "metadata": {},
     "output_type": "execute_result"
    },
    {
     "data": {
      "text/plain": [
       "<Figure size 1000x750 with 1 Axes>"
      ],
      "image/png": "[encoded data removed]"
     },
     "metadata": {},
     "output_type": "display_data"
    }
   ],
   "execution_count": 3
  },
  {
   "metadata": {},
   "cell_type": "markdown",
   "source": "Obliczmy teraz wartości impurity dla każdego podziału.",
   "id": "b857566dc2703417"
  },
  {
   "metadata": {
    "ExecuteTime": {
     "end_time": "2024-09-06T07:03:08.781145Z",
     "start_time": "2024-09-06T07:03:08.775597Z"
    }
   },
   "cell_type": "code",
   "source": [
    "def p(y, class_names):\n",
    "    prob = []\n",
    "    for class_name in class_names:\n",
    "        try:\n",
    "            prob.append(y[y == class_name].shape[0] / y.shape[0])\n",
    "        except ZeroDivisionError:\n",
    "            prob.append(0.0)\n",
    "    return np.array(prob)"
   ],
   "id": "65e3004e91d0116f",
   "outputs": [],
   "execution_count": 4
  },
  {
   "metadata": {
    "ExecuteTime": {
     "end_time": "2024-09-06T07:03:29.958351Z",
     "start_time": "2024-09-06T07:03:29.954392Z"
    }
   },
   "cell_type": "code",
   "source": [
    "def gini(p):\n",
    "    return np.sum(p * (1 - p))"
   ],
   "id": "cbd526d270b105ac",
   "outputs": [],
   "execution_count": 5
  },
  {
   "metadata": {
    "ExecuteTime": {
     "end_time": "2024-09-06T07:06:13.265713Z",
     "start_time": "2024-09-06T07:06:13.258825Z"
    }
   },
   "cell_type": "code",
   "source": [
    "def impurity(y_left, y_right, class_names, imp_fn=gini):\n",
    "    n_left = y_left.shape[0]\n",
    "    n_right = y_right.shape[0]\n",
    "    N = n_left + n_right\n",
    "    p_left = p(y_left, class_names)\n",
    "    p_right = p(y_right, class_names)\n",
    "    return (n_left / N) * imp_fn(p_left) + (n_right / N) * imp_fn(p_right)"
   ],
   "id": "fe8691d9d4409375",
   "outputs": [],
   "execution_count": 6
  },
  {
   "metadata": {},
   "cell_type": "markdown",
   "source": "Kolejny raz będziemy wykorzystywać pośrednie wartości pomiędzy parami sąsiednich dawek jako potencjalnie miejsca podziału. Mamy tylko jedną cechę, więc nie będzie potrzeby, aby dodatkowo testować różne możliwości na tym poziomie - typowo jednak nie będzie aż tak prosto.",
   "id": "740e6da483a8632a"
  },
  {
   "metadata": {
    "ExecuteTime": {
     "end_time": "2024-09-06T07:08:44.118023Z",
     "start_time": "2024-09-06T07:08:44.104243Z"
    }
   },
   "cell_type": "code",
   "source": [
    "sorted_patients_df = patients_df.sort_values(\"dosage_mg\", ascending=True)\n",
    "thresholds = sorted_patients_df[\"dosage_mg\"].rolling(2).mean()\n",
    "thresholds"
   ],
   "id": "451e226b24683441",
   "outputs": [
    {
     "data": {
      "text/plain": [
       "14         NaN\n",
       "18    0.370912\n",
       "8     0.468227\n",
       "11    0.901095\n",
       "5     1.426026\n",
       "21    1.593392\n",
       "13    1.675980\n",
       "2     1.847289\n",
       "20    2.308727\n",
       "22    2.925131\n",
       "1     3.231868\n",
       "10    3.505071\n",
       "12    3.747177\n",
       "6     4.483607\n",
       "24    5.514322\n",
       "15    6.012739\n",
       "0     6.408091\n",
       "17    6.947133\n",
       "19    7.483763\n",
       "4     7.753936\n",
       "3     8.225573\n",
       "23    8.924132\n",
       "9     9.260539\n",
       "7     9.471096\n",
       "16    9.806038\n",
       "Name: dosage_mg, dtype: float64"
      ]
     },
     "execution_count": 7,
     "metadata": {},
     "output_type": "execute_result"
    }
   ],
   "execution_count": 7
  },
  {
   "metadata": {
    "ExecuteTime": {
     "end_time": "2024-09-06T07:12:10.258113Z",
     "start_time": "2024-09-06T07:12:10.253441Z"
    }
   },
   "cell_type": "code",
   "source": [
    "def calculate_impurity(threshold, df):\n",
    "    y_left = df[df[\"dosage_mg\"] <= threshold][\"recovered\"]\n",
    "    y_right = df[df[\"dosage_mg\"] > threshold][\"recovered\"]\n",
    "    return impurity(y_left, y_right, [0, 1])\n",
    "\n",
    "def create_impurities_df(df):\n",
    "    sorted_df = df.sort_values(\"dosage_mg\", ascending=True)\n",
    "    \n",
    "    thresholds = sorted_df[\"dosage_mg\"].rolling(2).mean()\n",
    "    impurities_df = pd.DataFrame({\n",
    "        \"threshold\": thresholds.dropna()\n",
    "    })\n",
    "    impurities_df[\"impurity\"] = impurities_df[\"threshold\"].map(lambda t: calculate_impurity(t, df))\n",
    "    return impurities_df"
   ],
   "id": "87f88b8d5f8ae306",
   "outputs": [],
   "execution_count": 8
  },
  {
   "metadata": {
    "ExecuteTime": {
     "end_time": "2024-09-06T07:12:47.426069Z",
     "start_time": "2024-09-06T07:12:47.361720Z"
    }
   },
   "cell_type": "code",
   "source": [
    "impurities_df = create_impurities_df(patients_df)\n",
    "impurities_df.nsmallest(n=5, columns=\"impurity\")"
   ],
   "id": "d8c9b7a08bffdf6f",
   "outputs": [
    {
     "data": {
      "text/plain": [
       "    threshold  impurity\n",
       "10   3.505071  0.257143\n",
       "1    3.231868  0.266667\n",
       "22   2.925131  0.275000\n",
       "0    6.408091  0.275000\n",
       "20   2.308727  0.282353"
      ],
      "text/html": [
       "<div>\n",
       "<style scoped>\n",
       "    .dataframe tbody tr th:only-of-type {\n",
       "        vertical-align: middle;\n",
       "    }\n",
       "\n",
       "    .dataframe tbody tr th {\n",
       "        vertical-align: top;\n",
       "    }\n",
       "\n",
       "    .dataframe thead th {\n",
       "        text-align: right;\n",
       "    }\n",
       "</style>\n",
       "<table border=\"1\" class=\"dataframe\">\n",
       "  <thead>\n",
       "    <tr style=\"text-align: right;\">\n",
       "      <th></th>\n",
       "      <th>threshold</th>\n",
       "      <th>impurity</th>\n",
       "    </tr>\n",
       "  </thead>\n",
       "  <tbody>\n",
       "    <tr>\n",
       "      <th>10</th>\n",
       "      <td>3.505071</td>\n",
       "      <td>0.257143</td>\n",
       "    </tr>\n",
       "    <tr>\n",
       "      <th>1</th>\n",
       "      <td>3.231868</td>\n",
       "      <td>0.266667</td>\n",
       "    </tr>\n",
       "    <tr>\n",
       "      <th>22</th>\n",
       "      <td>2.925131</td>\n",
       "      <td>0.275000</td>\n",
       "    </tr>\n",
       "    <tr>\n",
       "      <th>0</th>\n",
       "      <td>6.408091</td>\n",
       "      <td>0.275000</td>\n",
       "    </tr>\n",
       "    <tr>\n",
       "      <th>20</th>\n",
       "      <td>2.308727</td>\n",
       "      <td>0.282353</td>\n",
       "    </tr>\n",
       "  </tbody>\n",
       "</table>\n",
       "</div>"
      ]
     },
     "execution_count": 9,
     "metadata": {},
     "output_type": "execute_result"
    }
   ],
   "execution_count": 9
  },
  {
   "metadata": {
    "ExecuteTime": {
     "end_time": "2024-09-06T07:14:30.776774Z",
     "start_time": "2024-09-06T07:14:30.588171Z"
    }
   },
   "cell_type": "code",
   "source": [
    "ax = patients_df.plot.scatter(x=\"dosage_mg\", y=\"recovered\", c=\"recovered\", cmap=\"Set1\", figsize=(10, 7.5))\n",
    "impurities_df.plot.line(x=\"threshold\", y=\"impurity\", c=\"blue\", ax=ax)"
   ],
   "id": "ae8fca3ebfb94965",
   "outputs": [
    {
     "data": {
      "text/plain": [
       "<Axes: xlabel='threshold', ylabel='recovered'>"
      ]
     },
     "execution_count": 10,
     "metadata": {},
     "output_type": "execute_result"
    },
    {
     "data": {
      "text/plain": [
       "<Figure size 1000x750 with 2 Axes>"
      ],
      "image/png": "[encoded data removed]"
     },
     "metadata": {},
     "output_type": "display_data"
    }
   ],
   "execution_count": 10
  },
  {
   "metadata": {},
   "cell_type": "markdown",
   "source": "Odnaleźliśmy lokalne minimum w punkcie dosage_mg = 3.505071. Podzielmy więc zbiór na lewą i prawą część, a następnie rozpatrzmy stworzone podproblemy.",
   "id": "5326ff226183bee0"
  },
  {
   "metadata": {
    "ExecuteTime": {
     "end_time": "2024-09-06T07:19:17.352817Z",
     "start_time": "2024-09-06T07:19:17.349388Z"
    }
   },
   "cell_type": "code",
   "source": "t_0 = 3.505071",
   "id": "7a753bfe2958e6fd",
   "outputs": [],
   "execution_count": 11
  },
  {
   "metadata": {
    "ExecuteTime": {
     "end_time": "2024-09-06T07:20:37.118554Z",
     "start_time": "2024-09-06T07:20:37.062599Z"
    }
   },
   "cell_type": "code",
   "source": [
    "Q_left = patients_df[patients_df[\"dosage_mg\"] <= t_0]\n",
    "Q_right = patients_df[patients_df[\"dosage_mg\"] > t_0]\n",
    "\n",
    "impurities_left_df = create_impurities_df(Q_left)\n",
    "impurities_right_df = create_impurities_df(Q_right)"
   ],
   "id": "931fdc88a93aa3c9",
   "outputs": [],
   "execution_count": 12
  },
  {
   "metadata": {
    "ExecuteTime": {
     "end_time": "2024-09-06T07:20:42.819097Z",
     "start_time": "2024-09-06T07:20:42.814484Z"
    }
   },
   "cell_type": "code",
   "source": "import matplotlib.pyplot as plt",
   "id": "284a848fa8ed3a09",
   "outputs": [],
   "execution_count": 13
  },
  {
   "metadata": {
    "ExecuteTime": {
     "end_time": "2024-09-06T07:23:04.421817Z",
     "start_time": "2024-09-06T07:23:04.220980Z"
    }
   },
   "cell_type": "code",
   "source": [
    "ax = patients_df.plot.scatter(x=\"dosage_mg\", y=\"recovered\", c=\"recovered\", cmap=\"Set1\", figsize=(10, 7.5))\n",
    "impurities_df.plot.line(x=\"threshold\", y=\"impurity\", c=\"blue\", ax=ax)\n",
    "\n",
    "plt.plot([t_0, t_0], [0, 1], \"r--\")\n",
    "impurities_left_df.plot.line(x=\"threshold\", y=\"impurity\", c=\"green\", ax=ax)\n",
    "impurities_right_df.plot.line(x=\"threshold\", y=\"impurity\", c=\"olive\", ax=ax)"
   ],
   "id": "136b876157c45b64",
   "outputs": [
    {
     "data": {
      "text/plain": [
       "<Axes: xlabel='threshold', ylabel='recovered'>"
      ]
     },
     "execution_count": 14,
     "metadata": {},
     "output_type": "execute_result"
    },
    {
     "data": {
      "text/plain": [
       "<Figure size 1000x750 with 2 Axes>"
      ],
      "image/png": "[encoded data removed]"
     },
     "metadata": {},
     "output_type": "display_data"
    }
   ],
   "execution_count": 14
  },
  {
   "metadata": {
    "ExecuteTime": {
     "end_time": "2024-09-06T07:25:07.193162Z",
     "start_time": "2024-09-06T07:25:07.186252Z"
    }
   },
   "cell_type": "code",
   "source": "impurities_right_df.nsmallest(n=5, columns=\"impurity\")",
   "id": "54d3a10c732da0b9",
   "outputs": [
    {
     "data": {
      "text/plain": [
       "    threshold  impurity\n",
       "0    6.408091  0.000000\n",
       "17   6.947133  0.119048\n",
       "15   6.012739  0.128571\n",
       "19   7.483763  0.204082\n",
       "24   5.514322  0.233766"
      ],
      "text/html": [
       "<div>\n",
       "<style scoped>\n",
       "    .dataframe tbody tr th:only-of-type {\n",
       "        vertical-align: middle;\n",
       "    }\n",
       "\n",
       "    .dataframe tbody tr th {\n",
       "        vertical-align: top;\n",
       "    }\n",
       "\n",
       "    .dataframe thead th {\n",
       "        text-align: right;\n",
       "    }\n",
       "</style>\n",
       "<table border=\"1\" class=\"dataframe\">\n",
       "  <thead>\n",
       "    <tr style=\"text-align: right;\">\n",
       "      <th></th>\n",
       "      <th>threshold</th>\n",
       "      <th>impurity</th>\n",
       "    </tr>\n",
       "  </thead>\n",
       "  <tbody>\n",
       "    <tr>\n",
       "      <th>0</th>\n",
       "      <td>6.408091</td>\n",
       "      <td>0.000000</td>\n",
       "    </tr>\n",
       "    <tr>\n",
       "      <th>17</th>\n",
       "      <td>6.947133</td>\n",
       "      <td>0.119048</td>\n",
       "    </tr>\n",
       "    <tr>\n",
       "      <th>15</th>\n",
       "      <td>6.012739</td>\n",
       "      <td>0.128571</td>\n",
       "    </tr>\n",
       "    <tr>\n",
       "      <th>19</th>\n",
       "      <td>7.483763</td>\n",
       "      <td>0.204082</td>\n",
       "    </tr>\n",
       "    <tr>\n",
       "      <th>24</th>\n",
       "      <td>5.514322</td>\n",
       "      <td>0.233766</td>\n",
       "    </tr>\n",
       "  </tbody>\n",
       "</table>\n",
       "</div>"
      ]
     },
     "execution_count": 15,
     "metadata": {},
     "output_type": "execute_result"
    }
   ],
   "execution_count": 15
  },
  {
   "metadata": {
    "ExecuteTime": {
     "end_time": "2024-09-06T07:25:55.931622Z",
     "start_time": "2024-09-06T07:25:55.926967Z"
    }
   },
   "cell_type": "code",
   "source": "t_1 = 6.408091",
   "id": "d184c1b758de88a4",
   "outputs": [],
   "execution_count": 16
  },
  {
   "metadata": {
    "ExecuteTime": {
     "end_time": "2024-09-06T07:27:46.521785Z",
     "start_time": "2024-09-06T07:27:46.484936Z"
    }
   },
   "cell_type": "code",
   "source": [
    "Q_right_left = Q_right[Q_right[\"dosage_mg\"] <= t_1]\n",
    "Q_right_right = Q_right[Q_right[\"dosage_mg\"] > t_1]\n",
    "\n",
    "impurities_right_left_df = create_impurities_df(Q_right_left)\n",
    "impurities_right_right_df = create_impurities_df(Q_right_right)"
   ],
   "id": "4da9e2b5896f85c9",
   "outputs": [],
   "execution_count": 18
  },
  {
   "metadata": {
    "ExecuteTime": {
     "end_time": "2024-09-06T07:29:31.510303Z",
     "start_time": "2024-09-06T07:29:31.307648Z"
    }
   },
   "cell_type": "code",
   "source": [
    "ax = patients_df.plot.scatter(x=\"dosage_mg\", y=\"recovered\", c=\"recovered\", cmap=\"Set1\", figsize=(10, 7.5))\n",
    "impurities_df.plot.line(x=\"threshold\", y=\"impurity\", c=\"blue\", ax=ax)\n",
    "\n",
    "plt.plot([t_0, t_0], [0, 1], \"r--\")\n",
    "impurities_left_df.plot.line(x=\"threshold\", y=\"impurity\", c=\"green\", ax=ax)\n",
    "impurities_right_df.plot.line(x=\"threshold\", y=\"impurity\", c=\"olive\", ax=ax)\n",
    "\n",
    "plt.plot([t_1, t_1], [0, 1], \"r--\")\n",
    "impurities_right_left_df.plot.line(x=\"threshold\", y=\"impurity\", c=\"orange\", ax=ax)\n",
    "impurities_right_right_df.plot.line(x=\"threshold\", y=\"impurity\", c=\"yellow\", ax=ax)"
   ],
   "id": "d0a422225d166560",
   "outputs": [
    {
     "data": {
      "text/plain": [
       "<Axes: xlabel='threshold', ylabel='recovered'>"
      ]
     },
     "execution_count": 21,
     "metadata": {},
     "output_type": "execute_result"
    },
    {
     "data": {
      "text/plain": [
       "<Figure size 1000x750 with 2 Axes>"
      ],
      "image/png": "[encoded data removed]"
     },
     "metadata": {},
     "output_type": "display_data"
    }
   ],
   "execution_count": 21
  },
  {
   "metadata": {},
   "cell_type": "markdown",
   "source": [
    "### Automatyzacja procesu nauczania\n",
    "Mieliśmy wiele szczęścia, że nasz proces nauczania zakończył się tak wcześnie. Przeprowadzenie tego procesu ręcznie byłoby bardzo uciążliwe dla bardziej skomplikowanych zbiorów. Na całe szczęście istnieje gotowa implementacja, która jest dostępna w bibliotece scikit-learn i pozwala przeprowadzić ten sam proces w sposób automatyczny.\n"
   ],
   "id": "9346fc167f5bebd3"
  },
  {
   "metadata": {
    "ExecuteTime": {
     "end_time": "2024-09-06T07:51:46.372912Z",
     "start_time": "2024-09-06T07:51:45.573319Z"
    }
   },
   "cell_type": "code",
   "source": "from sklearn.tree import DecisionTreeClassifier",
   "id": "cc1716d68eec3eb6",
   "outputs": [],
   "execution_count": 22
  },
  {
   "metadata": {
    "ExecuteTime": {
     "end_time": "2024-09-06T07:52:29.445803Z",
     "start_time": "2024-09-06T07:52:29.434836Z"
    }
   },
   "cell_type": "code",
   "source": [
    "dt = DecisionTreeClassifier(criterion=\"gini\")\n",
    "dt.fit(patients_df.drop(columns=\"recovered\"), patients_df[\"recovered\"])\n"
   ],
   "id": "15d116d6045b15ea",
   "outputs": [
    {
     "data": {
      "text/plain": [
       "DecisionTreeClassifier()"
      ],
      "text/html": [
       "<style>#sk-container-id-1 {\n",
       "  /* Definition of color scheme common for light and dark mode */\n",
       "  --sklearn-color-text: black;\n",
       "  --sklearn-color-line: gray;\n",
       "  /* Definition of color scheme for unfitted estimators */\n",
       "  --sklearn-color-unfitted-level-0: #fff5e6;\n",
       "  --sklearn-color-unfitted-level-1: #f6e4d2;\n",
       "  --sklearn-color-unfitted-level-2: #ffe0b3;\n",
       "  --sklearn-color-unfitted-level-3: chocolate;\n",
       "  /* Definition of color scheme for fitted estimators */\n",
       "  --sklearn-color-fitted-level-0: #f0f8ff;\n",
       "  --sklearn-color-fitted-level-1: #d4ebff;\n",
       "  --sklearn-color-fitted-level-2: #b3dbfd;\n",
       "  --sklearn-color-fitted-level-3: cornflowerblue;\n",
       "\n",
       "  /* Specific color for light theme */\n",
       "  --sklearn-color-text-on-default-background: var(--sg-text-color, var(--theme-code-foreground, var(--jp-content-font-color1, black)));\n",
       "  --sklearn-color-background: var(--sg-background-color, var(--theme-background, var(--jp-layout-color0, white)));\n",
       "  --sklearn-color-border-box: var(--sg-text-color, var(--theme-code-foreground, var(--jp-content-font-color1, black)));\n",
       "  --sklearn-color-icon: #696969;\n",
       "\n",
       "  @media (prefers-color-scheme: dark) {\n",
       "    /* Redefinition of color scheme for dark theme */\n",
       "    --sklearn-color-text-on-default-background: var(--sg-text-color, var(--theme-code-foreground, var(--jp-content-font-color1, white)));\n",
       "    --sklearn-color-background: var(--sg-background-color, var(--theme-background, var(--jp-layout-color0, #111)));\n",
       "    --sklearn-color-border-box: var(--sg-text-color, var(--theme-code-foreground, var(--jp-content-font-color1, white)));\n",
       "    --sklearn-color-icon: #878787;\n",
       "  }\n",
       "}\n",
       "\n",
       "#sk-container-id-1 {\n",
       "  color: var(--sklearn-color-text);\n",
       "}\n",
       "\n",
       "#sk-container-id-1 pre {\n",
       "  padding: 0;\n",
       "}\n",
       "\n",
       "#sk-container-id-1 input.sk-hidden--visually {\n",
       "  border: 0;\n",
       "  clip: rect(1px 1px 1px 1px);\n",
       "  clip: rect(1px, 1px, 1px, 1px);\n",
       "  height: 1px;\n",
       "  margin: -1px;\n",
       "  overflow: hidden;\n",
       "  padding: 0;\n",
       "  position: absolute;\n",
       "  width: 1px;\n",
       "}\n",
       "\n",
       "#sk-container-id-1 div.sk-dashed-wrapped {\n",
       "  border: 1px dashed var(--sklearn-color-line);\n",
       "  margin: 0 0.4em 0.5em 0.4em;\n",
       "  box-sizing: border-box;\n",
       "  padding-bottom: 0.4em;\n",
       "  background-color: var(--sklearn-color-background);\n",
       "}\n",
       "\n",
       "#sk-container-id-1 div.sk-container {\n",
       "  /* jupyter's `normalize.less` sets `[hidden] { display: none; }`\n",
       "     but bootstrap.min.css set `[hidden] { display: none !important; }`\n",
       "     so we also need the `!important` here to be able to override the\n",
       "     default hidden behavior on the sphinx rendered scikit-learn.org.\n",
       "     See: https://github.com/scikit-learn/scikit-learn/issues/21755 */\n",
       "  display: inline-block !important;\n",
       "  position: relative;\n",
       "}\n",
       "\n",
       "#sk-container-id-1 div.sk-text-repr-fallback {\n",
       "  display: none;\n",
       "}\n",
       "\n",
       "div.sk-parallel-item,\n",
       "div.sk-serial,\n",
       "div.sk-item {\n",
       "  /* draw centered vertical line to link estimators */\n",
       "  background-image: linear-gradient(var(--sklearn-color-text-on-default-background), var(--sklearn-color-text-on-default-background));\n",
       "  background-size: 2px 100%;\n",
       "  background-repeat: no-repeat;\n",
       "  background-position: center center;\n",
       "}\n",
       "\n",
       "/* Parallel-specific style estimator block */\n",
       "\n",
       "#sk-container-id-1 div.sk-parallel-item::after {\n",
       "  content: \"\";\n",
       "  width: 100%;\n",
       "  border-bottom: 2px solid var(--sklearn-color-text-on-default-background);\n",
       "  flex-grow: 1;\n",
       "}\n",
       "\n",
       "#sk-container-id-1 div.sk-parallel {\n",
       "  display: flex;\n",
       "  align-items: stretch;\n",
       "  justify-content: center;\n",
       "  background-color: var(--sklearn-color-background);\n",
       "  position: relative;\n",
       "}\n",
       "\n",
       "#sk-container-id-1 div.sk-parallel-item {\n",
       "  display: flex;\n",
       "  flex-direction: column;\n",
       "}\n",
       "\n",
       "#sk-container-id-1 div.sk-parallel-item:first-child::after {\n",
       "  align-self: flex-end;\n",
       "  width: 50%;\n",
       "}\n",
       "\n",
       "#sk-container-id-1 div.sk-parallel-item:last-child::after {\n",
       "  align-self: flex-start;\n",
       "  width: 50%;\n",
       "}\n",
       "\n",
       "#sk-container-id-1 div.sk-parallel-item:only-child::after {\n",
       "  width: 0;\n",
       "}\n",
       "\n",
       "/* Serial-specific style estimator block */\n",
       "\n",
       "#sk-container-id-1 div.sk-serial {\n",
       "  display: flex;\n",
       "  flex-direction: column;\n",
       "  align-items: center;\n",
       "  background-color: var(--sklearn-color-background);\n",
       "  padding-right: 1em;\n",
       "  padding-left: 1em;\n",
       "}\n",
       "\n",
       "\n",
       "/* Toggleable style: style used for estimator/Pipeline/ColumnTransformer box that is\n",
       "clickable and can be expanded/collapsed.\n",
       "- Pipeline and ColumnTransformer use this feature and define the default style\n",
       "- Estimators will overwrite some part of the style using the `sk-estimator` class\n",
       "*/\n",
       "\n",
       "/* Pipeline and ColumnTransformer style (default) */\n",
       "\n",
       "#sk-container-id-1 div.sk-toggleable {\n",
       "  /* Default theme specific background. It is overwritten whether we have a\n",
       "  specific estimator or a Pipeline/ColumnTransformer */\n",
       "  background-color: var(--sklearn-color-background);\n",
       "}\n",
       "\n",
       "/* Toggleable label */\n",
       "#sk-container-id-1 label.sk-toggleable__label {\n",
       "  cursor: pointer;\n",
       "  display: block;\n",
       "  width: 100%;\n",
       "  margin-bottom: 0;\n",
       "  padding: 0.5em;\n",
       "  box-sizing: border-box;\n",
       "  text-align: center;\n",
       "}\n",
       "\n",
       "#sk-container-id-1 label.sk-toggleable__label-arrow:before {\n",
       "  /* Arrow on the left of the label */\n",
       "  content: \"▸\";\n",
       "  float: left;\n",
       "  margin-right: 0.25em;\n",
       "  color: var(--sklearn-color-icon);\n",
       "}\n",
       "\n",
       "#sk-container-id-1 label.sk-toggleable__label-arrow:hover:before {\n",
       "  color: var(--sklearn-color-text);\n",
       "}\n",
       "\n",
       "/* Toggleable content - dropdown */\n",
       "\n",
       "#sk-container-id-1 div.sk-toggleable__content {\n",
       "  max-height: 0;\n",
       "  max-width: 0;\n",
       "  overflow: hidden;\n",
       "  text-align: left;\n",
       "  /* unfitted */\n",
       "  background-color: var(--sklearn-color-unfitted-level-0);\n",
       "}\n",
       "\n",
       "#sk-container-id-1 div.sk-toggleable__content.fitted {\n",
       "  /* fitted */\n",
       "  background-color: var(--sklearn-color-fitted-level-0);\n",
       "}\n",
       "\n",
       "#sk-container-id-1 div.sk-toggleable__content pre {\n",
       "  margin: 0.2em;\n",
       "  border-radius: 0.25em;\n",
       "  color: var(--sklearn-color-text);\n",
       "  /* unfitted */\n",
       "  background-color: var(--sklearn-color-unfitted-level-0);\n",
       "}\n",
       "\n",
       "#sk-container-id-1 div.sk-toggleable__content.fitted pre {\n",
       "  /* unfitted */\n",
       "  background-color: var(--sklearn-color-fitted-level-0);\n",
       "}\n",
       "\n",
       "#sk-container-id-1 input.sk-toggleable__control:checked~div.sk-toggleable__content {\n",
       "  /* Expand drop-down */\n",
       "  max-height: 200px;\n",
       "  max-width: 100%;\n",
       "  overflow: auto;\n",
       "}\n",
       "\n",
       "#sk-container-id-1 input.sk-toggleable__control:checked~label.sk-toggleable__label-arrow:before {\n",
       "  content: \"▾\";\n",
       "}\n",
       "\n",
       "/* Pipeline/ColumnTransformer-specific style */\n",
       "\n",
       "#sk-container-id-1 div.sk-label input.sk-toggleable__control:checked~label.sk-toggleable__label {\n",
       "  color: var(--sklearn-color-text);\n",
       "  background-color: var(--sklearn-color-unfitted-level-2);\n",
       "}\n",
       "\n",
       "#sk-container-id-1 div.sk-label.fitted input.sk-toggleable__control:checked~label.sk-toggleable__label {\n",
       "  background-color: var(--sklearn-color-fitted-level-2);\n",
       "}\n",
       "\n",
       "/* Estimator-specific style */\n",
       "\n",
       "/* Colorize estimator box */\n",
       "#sk-container-id-1 div.sk-estimator input.sk-toggleable__control:checked~label.sk-toggleable__label {\n",
       "  /* unfitted */\n",
       "  background-color: var(--sklearn-color-unfitted-level-2);\n",
       "}\n",
       "\n",
       "#sk-container-id-1 div.sk-estimator.fitted input.sk-toggleable__control:checked~label.sk-toggleable__label {\n",
       "  /* fitted */\n",
       "  background-color: var(--sklearn-color-fitted-level-2);\n",
       "}\n",
       "\n",
       "#sk-container-id-1 div.sk-label label.sk-toggleable__label,\n",
       "#sk-container-id-1 div.sk-label label {\n",
       "  /* The background is the default theme color */\n",
       "  color: var(--sklearn-color-text-on-default-background);\n",
       "}\n",
       "\n",
       "/* On hover, darken the color of the background */\n",
       "#sk-container-id-1 div.sk-label:hover label.sk-toggleable__label {\n",
       "  color: var(--sklearn-color-text);\n",
       "  background-color: var(--sklearn-color-unfitted-level-2);\n",
       "}\n",
       "\n",
       "/* Label box, darken color on hover, fitted */\n",
       "#sk-container-id-1 div.sk-label.fitted:hover label.sk-toggleable__label.fitted {\n",
       "  color: var(--sklearn-color-text);\n",
       "  background-color: var(--sklearn-color-fitted-level-2);\n",
       "}\n",
       "\n",
       "/* Estimator label */\n",
       "\n",
       "#sk-container-id-1 div.sk-label label {\n",
       "  font-family: monospace;\n",
       "  font-weight: bold;\n",
       "  display: inline-block;\n",
       "  line-height: 1.2em;\n",
       "}\n",
       "\n",
       "#sk-container-id-1 div.sk-label-container {\n",
       "  text-align: center;\n",
       "}\n",
       "\n",
       "/* Estimator-specific */\n",
       "#sk-container-id-1 div.sk-estimator {\n",
       "  font-family: monospace;\n",
       "  border: 1px dotted var(--sklearn-color-border-box);\n",
       "  border-radius: 0.25em;\n",
       "  box-sizing: border-box;\n",
       "  margin-bottom: 0.5em;\n",
       "  /* unfitted */\n",
       "  background-color: var(--sklearn-color-unfitted-level-0);\n",
       "}\n",
       "\n",
       "#sk-container-id-1 div.sk-estimator.fitted {\n",
       "  /* fitted */\n",
       "  background-color: var(--sklearn-color-fitted-level-0);\n",
       "}\n",
       "\n",
       "/* on hover */\n",
       "#sk-container-id-1 div.sk-estimator:hover {\n",
       "  /* unfitted */\n",
       "  background-color: var(--sklearn-color-unfitted-level-2);\n",
       "}\n",
       "\n",
       "#sk-container-id-1 div.sk-estimator.fitted:hover {\n",
       "  /* fitted */\n",
       "  background-color: var(--sklearn-color-fitted-level-2);\n",
       "}\n",
       "\n",
       "/* Specification for estimator info (e.g. \"i\" and \"?\") */\n",
       "\n",
       "/* Common style for \"i\" and \"?\" */\n",
       "\n",
       ".sk-estimator-doc-link,\n",
       "a:link.sk-estimator-doc-link,\n",
       "a:visited.sk-estimator-doc-link {\n",
       "  float: right;\n",
       "  font-size: smaller;\n",
       "  line-height: 1em;\n",
       "  font-family: monospace;\n",
       "  background-color: var(--sklearn-color-background);\n",
       "  border-radius: 1em;\n",
       "  height: 1em;\n",
       "  width: 1em;\n",
       "  text-decoration: none !important;\n",
       "  margin-left: 1ex;\n",
       "  /* unfitted */\n",
       "  border: var(--sklearn-color-unfitted-level-1) 1pt solid;\n",
       "  color: var(--sklearn-color-unfitted-level-1);\n",
       "}\n",
       "\n",
       ".sk-estimator-doc-link.fitted,\n",
       "a:link.sk-estimator-doc-link.fitted,\n",
       "a:visited.sk-estimator-doc-link.fitted {\n",
       "  /* fitted */\n",
       "  border: var(--sklearn-color-fitted-level-1) 1pt solid;\n",
       "  color: var(--sklearn-color-fitted-level-1);\n",
       "}\n",
       "\n",
       "/* On hover */\n",
       "div.sk-estimator:hover .sk-estimator-doc-link:hover,\n",
       ".sk-estimator-doc-link:hover,\n",
       "div.sk-label-container:hover .sk-estimator-doc-link:hover,\n",
       ".sk-estimator-doc-link:hover {\n",
       "  /* unfitted */\n",
       "  background-color: var(--sklearn-color-unfitted-level-3);\n",
       "  color: var(--sklearn-color-background);\n",
       "  text-decoration: none;\n",
       "}\n",
       "\n",
       "div.sk-estimator.fitted:hover .sk-estimator-doc-link.fitted:hover,\n",
       ".sk-estimator-doc-link.fitted:hover,\n",
       "div.sk-label-container:hover .sk-estimator-doc-link.fitted:hover,\n",
       ".sk-estimator-doc-link.fitted:hover {\n",
       "  /* fitted */\n",
       "  background-color: var(--sklearn-color-fitted-level-3);\n",
       "  color: var(--sklearn-color-background);\n",
       "  text-decoration: none;\n",
       "}\n",
       "\n",
       "/* Span, style for the box shown on hovering the info icon */\n",
       ".sk-estimator-doc-link span {\n",
       "  display: none;\n",
       "  z-index: 9999;\n",
       "  position: relative;\n",
       "  font-weight: normal;\n",
       "  right: .2ex;\n",
       "  padding: .5ex;\n",
       "  margin: .5ex;\n",
       "  width: min-content;\n",
       "  min-width: 20ex;\n",
       "  max-width: 50ex;\n",
       "  color: var(--sklearn-color-text);\n",
       "  box-shadow: 2pt 2pt 4pt #999;\n",
       "  /* unfitted */\n",
       "  background: var(--sklearn-color-unfitted-level-0);\n",
       "  border: .5pt solid var(--sklearn-color-unfitted-level-3);\n",
       "}\n",
       "\n",
       ".sk-estimator-doc-link.fitted span {\n",
       "  /* fitted */\n",
       "  background: var(--sklearn-color-fitted-level-0);\n",
       "  border: var(--sklearn-color-fitted-level-3);\n",
       "}\n",
       "\n",
       ".sk-estimator-doc-link:hover span {\n",
       "  display: block;\n",
       "}\n",
       "\n",
       "/* \"?\"-specific style due to the `<a>` HTML tag */\n",
       "\n",
       "#sk-container-id-1 a.estimator_doc_link {\n",
       "  float: right;\n",
       "  font-size: 1rem;\n",
       "  line-height: 1em;\n",
       "  font-family: monospace;\n",
       "  background-color: var(--sklearn-color-background);\n",
       "  border-radius: 1rem;\n",
       "  height: 1rem;\n",
       "  width: 1rem;\n",
       "  text-decoration: none;\n",
       "  /* unfitted */\n",
       "  color: var(--sklearn-color-unfitted-level-1);\n",
       "  border: var(--sklearn-color-unfitted-level-1) 1pt solid;\n",
       "}\n",
       "\n",
       "#sk-container-id-1 a.estimator_doc_link.fitted {\n",
       "  /* fitted */\n",
       "  border: var(--sklearn-color-fitted-level-1) 1pt solid;\n",
       "  color: var(--sklearn-color-fitted-level-1);\n",
       "}\n",
       "\n",
       "/* On hover */\n",
       "#sk-container-id-1 a.estimator_doc_link:hover {\n",
       "  /* unfitted */\n",
       "  background-color: var(--sklearn-color-unfitted-level-3);\n",
       "  color: var(--sklearn-color-background);\n",
       "  text-decoration: none;\n",
       "}\n",
       "\n",
       "#sk-container-id-1 a.estimator_doc_link.fitted:hover {\n",
       "  /* fitted */\n",
       "  background-color: var(--sklearn-color-fitted-level-3);\n",
       "}\n",
       "</style><div id=\"sk-container-id-1\" class=\"sk-top-container\"><div class=\"sk-text-repr-fallback\"><pre>DecisionTreeClassifier()</pre><b>In a Jupyter environment, please rerun this cell to show the HTML representation or trust the notebook. <br />On GitHub, the HTML representation is unable to render, please try loading this page with nbviewer.org.</b></div><div class=\"sk-container\" hidden><div class=\"sk-item\"><div class=\"sk-estimator fitted sk-toggleable\"><input class=\"sk-toggleable__control sk-hidden--visually\" id=\"sk-estimator-id-1\" type=\"checkbox\" checked><label for=\"sk-estimator-id-1\" class=\"sk-toggleable__label fitted sk-toggleable__label-arrow fitted\">&nbsp;&nbsp;DecisionTreeClassifier<a class=\"sk-estimator-doc-link fitted\" rel=\"noreferrer\" target=\"_blank\" href=\"https://scikit-learn.org/1.5/modules/generated/sklearn.tree.DecisionTreeClassifier.html\">?<span>Documentation for DecisionTreeClassifier</span></a><span class=\"sk-estimator-doc-link fitted\">i<span>Fitted</span></span></label><div class=\"sk-toggleable__content fitted\"><pre>DecisionTreeClassifier()</pre></div> </div></div></div></div>"
      ]
     },
     "execution_count": 24,
     "metadata": {},
     "output_type": "execute_result"
    }
   ],
   "execution_count": 24
  },
  {
   "metadata": {
    "ExecuteTime": {
     "end_time": "2024-09-06T07:52:45.796206Z",
     "start_time": "2024-09-06T07:52:45.792257Z"
    }
   },
   "cell_type": "code",
   "source": "from sklearn.tree import export_text",
   "id": "fad75eb3305c0abe",
   "outputs": [],
   "execution_count": 25
  },
  {
   "metadata": {
    "ExecuteTime": {
     "end_time": "2024-09-06T07:52:55.350439Z",
     "start_time": "2024-09-06T07:52:55.344064Z"
    }
   },
   "cell_type": "code",
   "source": "print(export_text(dt, decimals=6))",
   "id": "63a1e590cc9801fe",
   "outputs": [
    {
     "name": "stdout",
     "output_type": "stream",
     "text": [
      "|--- feature_0 <= 3.505071\n",
      "|   |--- class: 0\n",
      "|--- feature_0 >  3.505071\n",
      "|   |--- feature_0 <= 6.408091\n",
      "|   |   |--- class: 1\n",
      "|   |--- feature_0 >  6.408091\n",
      "|   |   |--- class: 0\n",
      "\n"
     ]
    }
   ],
   "execution_count": 26
  },
  {
   "metadata": {},
   "cell_type": "markdown",
   "source": "Nauczone drzewo wygląda dość podobnie do tego, które przed chwilą stworzyliśmy ręcznie, więc chyba znamy już generalną zasadę jak uczyć tego rodzaju modele. Czemu jednak Gini impurity to nie jest jedyna z możliwych opcji pomiaru jakości?",
   "id": "a16cecfecd65e830"
  },
  {
   "metadata": {},
   "cell_type": "markdown",
   "source": "",
   "id": "2e46e5925f954ea5"
  }
 ],
 "metadata": {
  "kernelspec": {
   "display_name": "Python 3",
   "language": "python",
   "name": "python3"
  },
  "language_info": {
   "codemirror_mode": {
    "name": "ipython",
    "version": 2
   },
   "file_extension": ".py",
   "mimetype": "text/x-python",
   "name": "python",
   "nbconvert_exporter": "python",
   "pygments_lexer": "ipython2",
   "version": "2.7.6"
  }
 },
 "nbformat": 4,
 "nbformat_minor": 5
}
