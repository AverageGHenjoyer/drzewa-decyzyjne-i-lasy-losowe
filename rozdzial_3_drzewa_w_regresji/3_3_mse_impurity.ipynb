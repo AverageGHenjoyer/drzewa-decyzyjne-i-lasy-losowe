{
 "cells": [
  {
   "metadata": {},
   "cell_type": "markdown",
   "source": [
    "# 3.3. Jakość podziału: MSE\n",
    "\n",
    "Jeśli masz już doświadczenie w rozwiązywaniu problemów regresji, np. za pomocą prostego modelu regresji liniowej, to z pewnością metryka **Mean Squared Error** nie jest Ci obca. Zacznijmy może od formalnej definicji:\n",
    "\n",
    "$$ MSE = \\frac{ \\sum_{i=0}^{N}{ ( \\overline{y_{i}} - y_{i} )^{2} } }{ N } $$\n",
    "\n",
    "Pozwala ona określić jaka jest średnia odległość wartości zwracanych przez nasz system do wartości oczekiwanych. Przez wykorzystanie kwadratu różnicy, **MSE** zwraca niejako większą uwagę na wartości najbardziej odległe od prawdziwych."
   ],
   "id": "1afe667cfcf25706"
  },
  {
   "metadata": {},
   "cell_type": "markdown",
   "source": [
    "## Podział zbioru danych z wykorzystaniem MSE\n",
    "\n",
    "Podobnie jak w przypadku klasyfikacji, proces uczenia sprawdza różne możliwości podziału zbioru w aktualnym węźle drzewa. Dzieje się to zarówno na poziomie wyboru najlepszej cechy, jak i jej optymalnej wartości, aby zmaksymalizować wartość *impurity*. Uprościmy sobie trochę to zagadnienie - załóżmy że mamy tylko jedną cechę i chcemy dokonać podziału tylko ze względu na jej wartość. \n",
    "\n",
    "Zagadnienie optymalizacji cen jest dość często rozpatrywanym problemem. Kwota jaką musimy zapłacić za dany produkt ma ogromny wpływ na liczbę sprzedanych produktów, a przez to na nasz dochód, jeśli jesteśmy sprzedawcą. Załóżmy że domyślnie nasz produkt kosztuje 20 zł, a nasz zarobek to 30% marży, tj. 6 zł. Jeśli zmniejszymy cenę, to w oczywisty sposób koszta pozostaną niezmienne, a nasza marża spadnie. W takim wypadku spodziewalibyśmy się wzrostu liczby transakcji, co finalnie może przełożyć się na większy zysk, pomimo mniejszej marży. Może się tak dziać tylko do pewnego poziomu, ponieważ popyt na dany towar nie jest nieograniczony. Przeciwnie, zwiększając cenę, możemy uzyskiwać większe marże, jednak liczba zakupionych produktów będzie w granicy spadać do 0. Załóżmy jednak, że jesteśmy w stanie eksperymentować. Załóżmy, że w toku eksperymentu zgromadziliśmy takie informacje i otrzymaliśmy następujące dane (dochód liczymy w okienkach tygodniowych):"
   ],
   "id": "c4e35e50c2f351e1"
  },
  {
   "metadata": {
    "ExecuteTime": {
     "end_time": "2024-09-07T20:03:38.605223Z",
     "start_time": "2024-09-07T20:03:38.267336Z"
    }
   },
   "cell_type": "code",
   "source": [
    "import numpy as np\n",
    "import pandas as pd"
   ],
   "id": "195f60660872e260",
   "outputs": [],
   "execution_count": 1
  },
  {
   "metadata": {
    "ExecuteTime": {
     "end_time": "2024-09-07T20:04:37.101252Z",
     "start_time": "2024-09-07T20:04:37.087279Z"
    }
   },
   "cell_type": "code",
   "source": [
    "price = np.linspace(14, 30, 15)\n",
    "income = [0.0,\n",
    "          22.270210334494614,\n",
    "          61.5656001620554,\n",
    "          76.31767626268956,\n",
    "          139.84489205505548,\n",
    "          196.65351459100881,\n",
    "          263.50293653807745,\n",
    "          265.9914199145693,\n",
    "          237.01894881636946,\n",
    "          173.14474251125418,\n",
    "          121.16183867125716,\n",
    "          60.498814563088466,\n",
    "          26.97578198428058,\n",
    "          3.5312918245180143,\n",
    "          4.932649288597467]\n",
    "prices_df = pd.DataFrame({\n",
    "    \"price\": price,\n",
    "    \"income\": income\n",
    "})\n",
    "prices_df"
   ],
   "id": "d13f6b98c5bc89df",
   "outputs": [
    {
     "data": {
      "text/plain": [
       "        price      income\n",
       "0   14.000000    0.000000\n",
       "1   15.142857   22.270210\n",
       "2   16.285714   61.565600\n",
       "3   17.428571   76.317676\n",
       "4   18.571429  139.844892\n",
       "5   19.714286  196.653515\n",
       "6   20.857143  263.502937\n",
       "7   22.000000  265.991420\n",
       "8   23.142857  237.018949\n",
       "9   24.285714  173.144743\n",
       "10  25.428571  121.161839\n",
       "11  26.571429   60.498815\n",
       "12  27.714286   26.975782\n",
       "13  28.857143    3.531292\n",
       "14  30.000000    4.932649"
      ],
      "text/html": [
       "<div>\n",
       "<style scoped>\n",
       "    .dataframe tbody tr th:only-of-type {\n",
       "        vertical-align: middle;\n",
       "    }\n",
       "\n",
       "    .dataframe tbody tr th {\n",
       "        vertical-align: top;\n",
       "    }\n",
       "\n",
       "    .dataframe thead th {\n",
       "        text-align: right;\n",
       "    }\n",
       "</style>\n",
       "<table border=\"1\" class=\"dataframe\">\n",
       "  <thead>\n",
       "    <tr style=\"text-align: right;\">\n",
       "      <th></th>\n",
       "      <th>price</th>\n",
       "      <th>income</th>\n",
       "    </tr>\n",
       "  </thead>\n",
       "  <tbody>\n",
       "    <tr>\n",
       "      <th>0</th>\n",
       "      <td>14.000000</td>\n",
       "      <td>0.000000</td>\n",
       "    </tr>\n",
       "    <tr>\n",
       "      <th>1</th>\n",
       "      <td>15.142857</td>\n",
       "      <td>22.270210</td>\n",
       "    </tr>\n",
       "    <tr>\n",
       "      <th>2</th>\n",
       "      <td>16.285714</td>\n",
       "      <td>61.565600</td>\n",
       "    </tr>\n",
       "    <tr>\n",
       "      <th>3</th>\n",
       "      <td>17.428571</td>\n",
       "      <td>76.317676</td>\n",
       "    </tr>\n",
       "    <tr>\n",
       "      <th>4</th>\n",
       "      <td>18.571429</td>\n",
       "      <td>139.844892</td>\n",
       "    </tr>\n",
       "    <tr>\n",
       "      <th>5</th>\n",
       "      <td>19.714286</td>\n",
       "      <td>196.653515</td>\n",
       "    </tr>\n",
       "    <tr>\n",
       "      <th>6</th>\n",
       "      <td>20.857143</td>\n",
       "      <td>263.502937</td>\n",
       "    </tr>\n",
       "    <tr>\n",
       "      <th>7</th>\n",
       "      <td>22.000000</td>\n",
       "      <td>265.991420</td>\n",
       "    </tr>\n",
       "    <tr>\n",
       "      <th>8</th>\n",
       "      <td>23.142857</td>\n",
       "      <td>237.018949</td>\n",
       "    </tr>\n",
       "    <tr>\n",
       "      <th>9</th>\n",
       "      <td>24.285714</td>\n",
       "      <td>173.144743</td>\n",
       "    </tr>\n",
       "    <tr>\n",
       "      <th>10</th>\n",
       "      <td>25.428571</td>\n",
       "      <td>121.161839</td>\n",
       "    </tr>\n",
       "    <tr>\n",
       "      <th>11</th>\n",
       "      <td>26.571429</td>\n",
       "      <td>60.498815</td>\n",
       "    </tr>\n",
       "    <tr>\n",
       "      <th>12</th>\n",
       "      <td>27.714286</td>\n",
       "      <td>26.975782</td>\n",
       "    </tr>\n",
       "    <tr>\n",
       "      <th>13</th>\n",
       "      <td>28.857143</td>\n",
       "      <td>3.531292</td>\n",
       "    </tr>\n",
       "    <tr>\n",
       "      <th>14</th>\n",
       "      <td>30.000000</td>\n",
       "      <td>4.932649</td>\n",
       "    </tr>\n",
       "  </tbody>\n",
       "</table>\n",
       "</div>"
      ]
     },
     "execution_count": 2,
     "metadata": {},
     "output_type": "execute_result"
    }
   ],
   "execution_count": 2
  },
  {
   "metadata": {},
   "cell_type": "code",
   "outputs": [],
   "execution_count": null,
   "source": "",
   "id": "41c91e93cdfbec79"
  }
 ],
 "metadata": {
  "kernelspec": {
   "display_name": "Python 3",
   "language": "python",
   "name": "python3"
  },
  "language_info": {
   "codemirror_mode": {
    "name": "ipython",
    "version": 2
   },
   "file_extension": ".py",
   "mimetype": "text/x-python",
   "name": "python",
   "nbconvert_exporter": "python",
   "pygments_lexer": "ipython2",
   "version": "2.7.6"
  }
 },
 "nbformat": 4,
 "nbformat_minor": 5
}
