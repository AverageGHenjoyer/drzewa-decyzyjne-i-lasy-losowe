{
 "cells": [
  {
   "metadata": {},
   "cell_type": "markdown",
   "source": "# 4.1 Tworzenie lasu z drzew decyzyjnych: bagging",
   "id": "69ae929e86ff1feb"
  },
  {
   "metadata": {},
   "cell_type": "markdown",
   "source": [
    "### Bootstrap\n",
    "Metoda **bootstrap** jest dość użyteczna, jeśli chcemy obliczyć pewną wielkość dla całej populacji na podstawie jej próbki. Załóżmy, że mamy ogromną kolekcję liczb i chcielibyśmy odnaleźć ich średnią, jednak z powodów wydajnościowych nie możemy po prostu zsumować wszystkich wartości i podzielić ich przez liczbę. Podstawową strategią w takim wypadku może być np. wybranie jednej próbki danych o rozmiarze $N$ i policzenie średniej dla tych elementów."
   ],
   "id": "cae54d8b901486f3"
  },
  {
   "metadata": {
    "ExecuteTime": {
     "end_time": "2024-09-09T10:20:29.807792Z",
     "start_time": "2024-09-09T10:20:29.804846Z"
    }
   },
   "cell_type": "code",
   "source": "import numpy as np",
   "id": "bebac00f1458c4a7",
   "outputs": [],
   "execution_count": 16
  },
  {
   "metadata": {
    "ExecuteTime": {
     "end_time": "2024-09-09T10:20:33.190898Z",
     "start_time": "2024-09-09T10:20:30.027Z"
    }
   },
   "cell_type": "code",
   "source": [
    "numbers = np.random.normal(loc=100, scale=50, size=100000000)\n",
    "numbers"
   ],
   "id": "41b05fb34951be7",
   "outputs": [
    {
     "data": {
      "text/plain": [
       "array([ 35.09836426, 164.51563614, 175.07047245, ..., 165.69229963,\n",
       "        50.42160449, 133.13022028])"
      ]
     },
     "execution_count": 17,
     "metadata": {},
     "output_type": "execute_result"
    }
   ],
   "execution_count": 17
  },
  {
   "metadata": {
    "ExecuteTime": {
     "end_time": "2024-09-09T10:20:33.208541Z",
     "start_time": "2024-09-09T10:20:33.205861Z"
    }
   },
   "cell_type": "code",
   "source": "N = 100",
   "id": "bdb60bb80d65c40",
   "outputs": [],
   "execution_count": 18
  },
  {
   "metadata": {
    "ExecuteTime": {
     "end_time": "2024-09-09T10:20:33.270271Z",
     "start_time": "2024-09-09T10:20:33.264740Z"
    }
   },
   "cell_type": "code",
   "source": [
    "np.random.seed(61925235)\n",
    "numbers_sample = np.random.choice(numbers, N)\n",
    "numbers_sample.mean()"
   ],
   "id": "55d8c28496bab9e4",
   "outputs": [
    {
     "data": {
      "text/plain": [
       "94.75645437394567"
      ]
     },
     "execution_count": 19,
     "metadata": {},
     "output_type": "execute_result"
    }
   ],
   "execution_count": 19
  },
  {
   "metadata": {},
   "cell_type": "markdown",
   "source": "Takie postępowanie jest podatne na błędy, szczególnie jeśli $ N $ będzie miało niewielką wartość w stosunku do rozmiaru całego zbioru danych jaki posiadamy. Procedura *bootstrap* pozwala nam ulepszyć nasze estymacje poprzez wielokrotne próbkowanie z powtórzeniami, a następnie liczenie średniej z wyników uzyskanych dla poszczególnych próbek prowadzi nas do wyjściowego wyniku.",
   "id": "7d3dec5b70bea9cc"
  },
  {
   "metadata": {},
   "cell_type": "markdown",
   "source": "",
   "id": "f45c778947c691d2"
  },
  {
   "metadata": {
    "ExecuteTime": {
     "end_time": "2024-09-09T10:21:04.976682Z",
     "start_time": "2024-09-09T10:21:04.969687Z"
    }
   },
   "cell_type": "code",
   "source": [
    "np.random.seed(61925235)\n",
    "sample_means = [np.random.choice(numbers, N, replace=True).mean() for _ in range(100)]"
   ],
   "id": "e7dbaca54cdabb8d",
   "outputs": [],
   "execution_count": 23
  },
  {
   "metadata": {
    "ExecuteTime": {
     "end_time": "2024-09-09T10:21:05.163102Z",
     "start_time": "2024-09-09T10:21:05.158299Z"
    }
   },
   "cell_type": "code",
   "source": "import matplotlib.pyplot as plt",
   "id": "702b2cad4dd00ce2",
   "outputs": [],
   "execution_count": 24
  },
  {
   "metadata": {
    "ExecuteTime": {
     "end_time": "2024-09-09T10:21:05.517224Z",
     "start_time": "2024-09-09T10:21:05.379482Z"
    }
   },
   "cell_type": "code",
   "source": "plt.hist(sample_means, bins=15)",
   "id": "5a535f2f222b2d60",
   "outputs": [
    {
     "data": {
      "text/plain": [
       "(array([ 1.,  3.,  6.,  7., 11.,  9., 10., 10., 15., 11.,  3.,  8.,  4.,\n",
       "         0.,  2.]),\n",
       " array([ 88.57819451,  90.09997671,  91.6217589 ,  93.1435411 ,\n",
       "         94.66532329,  96.18710548,  97.70888768,  99.23066987,\n",
       "        100.75245207, 102.27423426, 103.79601646, 105.31779865,\n",
       "        106.83958085, 108.36136304, 109.88314524, 111.40492743]),\n",
       " <BarContainer object of 15 artists>)"
      ]
     },
     "execution_count": 25,
     "metadata": {},
     "output_type": "execute_result"
    },
    {
     "data": {
      "text/plain": [
       "<Figure size 640x480 with 1 Axes>"
      ],
      "image/png": "[encoded data removed]"
     },
     "metadata": {},
     "output_type": "display_data"
    }
   ],
   "execution_count": 25
  },
  {
   "metadata": {
    "ExecuteTime": {
     "end_time": "2024-09-09T10:21:18.985329Z",
     "start_time": "2024-09-09T10:21:18.978867Z"
    }
   },
   "cell_type": "code",
   "source": "np.mean(sample_means)",
   "id": "72cfb031a9ac16ae",
   "outputs": [
    {
     "data": {
      "text/plain": [
       "99.52735876847963"
      ]
     },
     "execution_count": 26,
     "metadata": {},
     "output_type": "execute_result"
    }
   ],
   "execution_count": 26
  },
  {
   "metadata": {},
   "cell_type": "markdown",
   "source": "Zobaczmy jak to się ma do wyniku średniej z całego zbioru ",
   "id": "e81364b4908f95d4"
  },
  {
   "metadata": {
    "ExecuteTime": {
     "end_time": "2024-09-09T10:21:49.378511Z",
     "start_time": "2024-09-09T10:21:49.310305Z"
    }
   },
   "cell_type": "code",
   "source": "numbers.mean()",
   "id": "de74081ef9fc372c",
   "outputs": [
    {
     "data": {
      "text/plain": [
       "99.99904692042831"
      ]
     },
     "execution_count": 27,
     "metadata": {},
     "output_type": "execute_result"
    }
   ],
   "execution_count": 27
  },
  {
   "metadata": {
    "ExecuteTime": {
     "end_time": "2024-09-09T10:22:49.642079Z",
     "start_time": "2024-09-09T10:22:49.338338Z"
    }
   },
   "cell_type": "code",
   "source": [
    "np.random.seed(61925235)\n",
    "np.mean([np.random.choice(numbers, N, \n",
    "                          replace=True).mean() \n",
    "         for _ in range(10000)])"
   ],
   "id": "aa9325a6ca454eef",
   "outputs": [
    {
     "data": {
      "text/plain": [
       "100.04416180051635"
      ]
     },
     "execution_count": 28,
     "metadata": {},
     "output_type": "execute_result"
    }
   ],
   "execution_count": 28
  },
  {
   "metadata": {
    "ExecuteTime": {
     "end_time": "2024-09-09T10:24:04.435771Z",
     "start_time": "2024-09-09T10:24:04.429979Z"
    }
   },
   "cell_type": "code",
   "source": [
    "for i in np.logspace(1, 5, num=25):\n",
    "    print(i)"
   ],
   "id": "23906b3bf80fd066",
   "outputs": [
    {
     "name": "stdout",
     "output_type": "stream",
     "text": [
      "10.0\n",
      "14.677992676220699\n",
      "21.544346900318832\n",
      "31.622776601683793\n",
      "46.41588833612777\n",
      "68.12920690579611\n",
      "100.0\n",
      "146.7799267622069\n",
      "215.44346900318823\n",
      "316.22776601683796\n",
      "464.15888336127773\n",
      "681.2920690579608\n",
      "1000.0\n",
      "1467.799267622069\n",
      "2154.4346900318824\n",
      "3162.2776601683795\n",
      "4641.588833612777\n",
      "6812.920690579608\n",
      "10000.0\n",
      "14677.992676220676\n",
      "21544.346900318822\n",
      "31622.776601683792\n",
      "46415.888336127726\n",
      "68129.20690579608\n",
      "100000.0\n"
     ]
    }
   ],
   "execution_count": 29
  },
  {
   "metadata": {
    "ExecuteTime": {
     "end_time": "2024-09-09T10:25:56.022515Z",
     "start_time": "2024-09-09T10:25:48.658437Z"
    }
   },
   "cell_type": "code",
   "source": [
    "means = []\n",
    "for i in np.logspace(1, 5, num=25):\n",
    "    np.random.seed(61925235)\n",
    "    bootstrap_mean = np.mean([\n",
    "        np.random.choice(numbers, N, \n",
    "                         replace=True).mean() \n",
    "        for _ in range(int(i))\n",
    "    ])\n",
    "    means.append(bootstrap_mean)"
   ],
   "id": "6437d6e75e6a314e",
   "outputs": [],
   "execution_count": 30
  },
  {
   "metadata": {
    "ExecuteTime": {
     "end_time": "2024-09-09T10:25:59.910836Z",
     "start_time": "2024-09-09T10:25:59.765845Z"
    }
   },
   "cell_type": "code",
   "source": [
    "plt.figure(figsize=(10.5, 7.5))\n",
    "plt.plot(np.logspace(1, 5, num=25), means)"
   ],
   "id": "a4ab7cf5c42dda26",
   "outputs": [
    {
     "data": {
      "text/plain": [
       "[<matplotlib.lines.Line2D at 0x7f5cbc0608d0>]"
      ]
     },
     "execution_count": 31,
     "metadata": {},
     "output_type": "execute_result"
    },
    {
     "data": {
      "text/plain": [
       "<Figure size 1050x750 with 1 Axes>"
      ],
      "image/png": "[encoded data removed]"
     },
     "metadata": {},
     "output_type": "display_data"
    }
   ],
   "execution_count": 31
  },
  {
   "metadata": {},
   "cell_type": "markdown",
   "source": [
    "Jak ma się to jednak do Machine Learningu?\n",
    "\n",
    "### Bootstrap a Machine Learning\n",
    "\n",
    "Nic nie stoi na przeszkodzie, aby procedurę *bootstrap* zastosować również w przypadku naszych modeli. Mamy zbiór danych, który możemy próbkować, a uśrednianie wyników także nie będzie problemem. **Bagging** to wykorzystanie metody *bootstrap* dla ML i bierze swoją nazwę od **B**ootstrap **agg**regat**ing**.\n",
    "\n",
    "Rozpatrywaliśmy problemy klasyfikacji oraz regresji. W pierwszym przypadku uśrednianie wyników sprowadzi się do przeprowadzenia procedury głosowania, którą już znamy, ponieważ jest stosowana podczas wyboru klasy w drzewach decyzyjnych. Najbardziej naiwną wersją metody opartą o *bootstraping* jest metoda zaimplementowana w scikit-learn w klasach `BaggingClassifier` oraz `BaggingRegressor`. Nie będziemy jej bezpośrednio testować, ale w skrócie przeprowadzają one dokładnie tę procedurę, którą omówiliśmy."
   ],
   "id": "d028516a4b72a37c"
  },
  {
   "metadata": {},
   "cell_type": "code",
   "outputs": [],
   "execution_count": null,
   "source": "",
   "id": "d99a9e460c8c9ef3"
  }
 ],
 "metadata": {
  "kernelspec": {
   "display_name": "Python 3",
   "language": "python",
   "name": "python3"
  },
  "language_info": {
   "codemirror_mode": {
    "name": "ipython",
    "version": 2
   },
   "file_extension": ".py",
   "mimetype": "text/x-python",
   "name": "python",
   "nbconvert_exporter": "python",
   "pygments_lexer": "ipython2",
   "version": "2.7.6"
  }
 },
 "nbformat": 4,
 "nbformat_minor": 5
}
