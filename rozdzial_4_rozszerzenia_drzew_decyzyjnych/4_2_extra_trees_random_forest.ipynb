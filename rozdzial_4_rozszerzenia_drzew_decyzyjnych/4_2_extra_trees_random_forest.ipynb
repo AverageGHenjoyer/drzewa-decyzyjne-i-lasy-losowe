{
 "cells": [
  {
   "metadata": {},
   "cell_type": "markdown",
   "source": [
    "# 4.2 Extra Trees vs Random Forest\n",
    "Trochę bardziej zaawansowane wariacje na temat baggingu korzystają z dodatkowych optymalizacji. W tej lekcji omówimy sobie te, które są używane najczęściej - Random Forest oraz Extra Trees. Nie będziemy omawiać samej teorii, tylko wprowadźmy sobie zbiór danych, który najpierw postaramy się zamodelować pojedynczym drzewem decyzyjnym, a potem zobaczymy który algorytm rozwiąże go najlepiej."
   ],
   "id": "a4e7123afee03648"
  },
  {
   "metadata": {
    "ExecuteTime": {
     "end_time": "2024-09-09T10:46:11.998691Z",
     "start_time": "2024-09-09T10:46:11.333011Z"
    }
   },
   "cell_type": "code",
   "source": "from sklearn.datasets import make_classification",
   "id": "b22a88804d2f5678",
   "outputs": [],
   "execution_count": 1
  },
  {
   "metadata": {
    "ExecuteTime": {
     "end_time": "2024-09-09T12:58:28.384375Z",
     "start_time": "2024-09-09T12:58:28.376383Z"
    }
   },
   "cell_type": "code",
   "source": "X, y = make_classification(n_samples=1000, n_features=20, n_informative=10, n_redundant=4)",
   "id": "e34fe43076603747",
   "outputs": [],
   "execution_count": 2
  },
  {
   "metadata": {
    "ExecuteTime": {
     "end_time": "2024-09-09T12:58:48.366991Z",
     "start_time": "2024-09-09T12:58:48.215279Z"
    }
   },
   "cell_type": "code",
   "source": [
    "from sklearn.tree import DecisionTreeClassifier\n",
    "from sklearn.model_selection import cross_validate"
   ],
   "id": "804585622a872770",
   "outputs": [],
   "execution_count": 3
  },
  {
   "metadata": {
    "ExecuteTime": {
     "end_time": "2024-09-09T12:59:13.341016Z",
     "start_time": "2024-09-09T12:59:13.124198Z"
    }
   },
   "cell_type": "code",
   "source": [
    "dt = DecisionTreeClassifier()\n",
    "dt_cv_results = cross_validate(dt, X, y, cv=10, return_train_score=True)\n",
    "dt_cv_results"
   ],
   "id": "9a353709fa83a3f5",
   "outputs": [
    {
     "data": {
      "text/plain": [
       "{'fit_time': array([0.04316735, 0.01591969, 0.01551175, 0.01512003, 0.01623034,\n",
       "        0.0173769 , 0.01872516, 0.01669431, 0.01620889, 0.01679039]),\n",
       " 'score_time': array([0.00132108, 0.00044894, 0.00045776, 0.00042939, 0.000422  ,\n",
       "        0.00045824, 0.00042772, 0.00042677, 0.00042486, 0.00042391]),\n",
       " 'test_score': array([0.81, 0.83, 0.8 , 0.8 , 0.82, 0.83, 0.83, 0.85, 0.82, 0.81]),\n",
       " 'train_score': array([1., 1., 1., 1., 1., 1., 1., 1., 1., 1.])}"
      ]
     },
     "execution_count": 4,
     "metadata": {},
     "output_type": "execute_result"
    }
   ],
   "execution_count": 4
  },
  {
   "metadata": {
    "ExecuteTime": {
     "end_time": "2024-09-09T13:07:53.305950Z",
     "start_time": "2024-09-09T13:07:53.299394Z"
    }
   },
   "cell_type": "code",
   "source": "dt_cv_results[\"test_score\"].mean()",
   "id": "5c1995d485e27cec",
   "outputs": [
    {
     "data": {
      "text/plain": [
       "0.8200000000000001"
      ]
     },
     "execution_count": 5,
     "metadata": {},
     "output_type": "execute_result"
    }
   ],
   "execution_count": 5
  },
  {
   "metadata": {},
   "cell_type": "markdown",
   "source": [
    "## Random Forest\n",
    "Metoda **Random Forest** pozwala na stworzenie szeregu drzew decyzyjnych, z których każde korzysta z trochę innego podzbioru. Podzbiory te są generowane właśnie za pomocą *bootstrappingu*, dzięki czemu każde z powstałych drzew rozpoznaje odrobinę inny problem decyzyjny. Dodatkowo, przez ustawienie parametru `max_features`, tak samo jak w przypadku *drzew decyzyjnych*, możemy wybierać najlepszy podział tylko z pewnego podzbioru cech, co dodatkowo zwiększa losowość stworzonych drzew. W przypadku implementacji scikit-learn nie przeprowadzamy głosowania na klasę, a uśredniamy prawdopodobieństwa dla poszczególnych klas."
   ],
   "id": "d8111753a26dfd1b"
  },
  {
   "metadata": {
    "ExecuteTime": {
     "end_time": "2024-09-09T13:20:48.798255Z",
     "start_time": "2024-09-09T13:20:48.722471Z"
    }
   },
   "cell_type": "code",
   "source": "from sklearn.ensemble import RandomForestClassifier",
   "id": "fbc437ac7fda31c6",
   "outputs": [],
   "execution_count": 6
  },
  {
   "metadata": {
    "ExecuteTime": {
     "end_time": "2024-09-09T13:21:42.884637Z",
     "start_time": "2024-09-09T13:21:39.814265Z"
    }
   },
   "cell_type": "code",
   "source": [
    "rf = RandomForestClassifier(n_estimators=100, max_features=\"sqrt\", random_state=715532)\n",
    "rf_cv_results = cross_validate(rf, X, y, cv=10, return_train_score=True)\n",
    "rf_cv_results"
   ],
   "id": "27d45e3f8a3b85fb",
   "outputs": [
    {
     "data": {
      "text/plain": [
       "{'fit_time': array([0.32086539, 0.3113668 , 0.28531885, 0.28684473, 0.28740001,\n",
       "        0.28910613, 0.29421639, 0.2879355 , 0.28438354, 0.28520155]),\n",
       " 'score_time': array([0.00444818, 0.00446296, 0.00445247, 0.00447321, 0.00441551,\n",
       "        0.0043788 , 0.00436091, 0.00435805, 0.00441265, 0.00447345]),\n",
       " 'test_score': array([0.91, 0.96, 0.83, 0.87, 0.92, 0.89, 0.91, 0.95, 0.88, 0.94]),\n",
       " 'train_score': array([1., 1., 1., 1., 1., 1., 1., 1., 1., 1.])}"
      ]
     },
     "execution_count": 7,
     "metadata": {},
     "output_type": "execute_result"
    }
   ],
   "execution_count": 7
  },
  {
   "metadata": {
    "ExecuteTime": {
     "end_time": "2024-09-09T13:21:58.348969Z",
     "start_time": "2024-09-09T13:21:58.342975Z"
    }
   },
   "cell_type": "code",
   "source": "rf_cv_results[\"test_score\"].mean()",
   "id": "c3b00501c0044cc5",
   "outputs": [
    {
     "data": {
      "text/plain": [
       "0.906"
      ]
     },
     "execution_count": 8,
     "metadata": {},
     "output_type": "execute_result"
    }
   ],
   "execution_count": 8
  },
  {
   "metadata": {},
   "cell_type": "markdown",
   "source": [
    "## Extra Trees\n",
    "A co stałoby się, gdyby jeszcze bardziej podkręcić losowość naszego klasyfikatora? Odpowiedzią jest algorytm *Extra Trees* bądź inaczej *Extremely Randomized Trees*. Domyślnie nie przeprowadza on procesu *bootstrappingu*, jednak dla każdej z wylosowanych cech (maksymalnie tyle na ile ustalimy wartość parametru `max_features`), generuje losowy podział i wybiera najlepszy z tych losowych podziałów. Możemy jednak włączyć bootstrapping i zobaczyć jak to wpłynie na skuteczność."
   ],
   "id": "3e94f33444c67fff"
  },
  {
   "metadata": {
    "ExecuteTime": {
     "end_time": "2024-09-09T13:24:02.446427Z",
     "start_time": "2024-09-09T13:24:02.442418Z"
    }
   },
   "cell_type": "code",
   "source": "from sklearn.ensemble import ExtraTreesClassifier",
   "id": "199522b4919fd142",
   "outputs": [],
   "execution_count": 9
  },
  {
   "metadata": {
    "ExecuteTime": {
     "end_time": "2024-09-09T13:24:45.153647Z",
     "start_time": "2024-09-09T13:24:43.730288Z"
    }
   },
   "cell_type": "code",
   "source": [
    "et = ExtraTreesClassifier(n_estimators=100, max_features=\"sqrt\", random_state=715532)\n",
    "et_cv_results = cross_validate(et, X, y, cv=10, return_train_score=True)\n",
    "et_cv_results"
   ],
   "id": "b4f3d11be58bed70",
   "outputs": [
    {
     "data": {
      "text/plain": [
       "{'fit_time': array([0.14974713, 0.12183094, 0.13327146, 0.11942387, 0.1284306 ,\n",
       "        0.11283636, 0.11388922, 0.11258125, 0.12216115, 0.12069917]),\n",
       " 'score_time': array([0.005023  , 0.00496864, 0.00656629, 0.00556779, 0.00520945,\n",
       "        0.00507116, 0.00530982, 0.00492787, 0.00713396, 0.0054965 ]),\n",
       " 'test_score': array([0.91, 0.95, 0.87, 0.92, 0.9 , 0.89, 0.94, 0.96, 0.91, 0.94]),\n",
       " 'train_score': array([1., 1., 1., 1., 1., 1., 1., 1., 1., 1.])}"
      ]
     },
     "execution_count": 10,
     "metadata": {},
     "output_type": "execute_result"
    }
   ],
   "execution_count": 10
  },
  {
   "metadata": {
    "ExecuteTime": {
     "end_time": "2024-09-09T13:24:57.977229Z",
     "start_time": "2024-09-09T13:24:57.968990Z"
    }
   },
   "cell_type": "code",
   "source": "et_cv_results[\"test_score\"].mean()",
   "id": "441bfce0db1de63a",
   "outputs": [
    {
     "data": {
      "text/plain": [
       "0.9189999999999999"
      ]
     },
     "execution_count": 11,
     "metadata": {},
     "output_type": "execute_result"
    }
   ],
   "execution_count": 11
  },
  {
   "metadata": {
    "ExecuteTime": {
     "end_time": "2024-09-09T13:27:32.687227Z",
     "start_time": "2024-09-09T13:27:31.255921Z"
    }
   },
   "cell_type": "code",
   "source": [
    "etb = ExtraTreesClassifier(n_estimators=100, max_features=\"sqrt\", random_state=715532, bootstrap=True)\n",
    "etb_cv_results = cross_validate(etb, X, y, cv=10, return_train_score=True)\n",
    "etb_cv_results"
   ],
   "id": "3e5527d6ce9d7a4e",
   "outputs": [
    {
     "data": {
      "text/plain": [
       "{'fit_time': array([0.14906096, 0.12265205, 0.13745475, 0.12354994, 0.1224637 ,\n",
       "        0.12191319, 0.12194037, 0.12184811, 0.12135243, 0.12438083]),\n",
       " 'score_time': array([0.00474   , 0.00464916, 0.00667882, 0.0048039 , 0.00477028,\n",
       "        0.00462174, 0.00469184, 0.00479436, 0.00475359, 0.00527096]),\n",
       " 'test_score': array([0.89, 0.96, 0.88, 0.87, 0.9 , 0.91, 0.92, 0.94, 0.88, 0.93]),\n",
       " 'train_score': array([1., 1., 1., 1., 1., 1., 1., 1., 1., 1.])}"
      ]
     },
     "execution_count": 12,
     "metadata": {},
     "output_type": "execute_result"
    }
   ],
   "execution_count": 12
  },
  {
   "metadata": {
    "ExecuteTime": {
     "end_time": "2024-09-09T13:27:46.495730Z",
     "start_time": "2024-09-09T13:27:46.488421Z"
    }
   },
   "cell_type": "code",
   "source": "etb_cv_results[\"test_score\"].mean()",
   "id": "bc4c5021d21ae968",
   "outputs": [
    {
     "data": {
      "text/plain": [
       "0.908"
      ]
     },
     "execution_count": 13,
     "metadata": {},
     "output_type": "execute_result"
    }
   ],
   "execution_count": 13
  },
  {
   "metadata": {},
   "cell_type": "markdown",
   "source": [
    "Algorytm ERT wygrał naszą rywalizację - dokładnie wersja z wyłączonym mechaniznem *bootstrappingu*. Typowo jednak będziemy musieli przetestować obydwa, aby wybrać ten lepszy, ponieważ nie jest to ogólna zasada.\n",
    "\n",
    "### Wpływ liczby drzew na skuteczność uczenia.\n",
    "Zobaczmy czy zwiększenie liczby drzew pomoże nam zwiększyć skuteczność naszego modelu."
   ],
   "id": "b03dc59e8f216c27"
  },
  {
   "metadata": {
    "ExecuteTime": {
     "end_time": "2024-09-09T13:33:16.658429Z",
     "start_time": "2024-09-09T13:33:15.315902Z"
    }
   },
   "cell_type": "code",
   "source": [
    "et_big = ExtraTreesClassifier(n_estimators=100, max_features=\"sqrt\", random_state=715532)\n",
    "et_big_cv_results = cross_validate(et, X, y, cv=10, return_train_score=True)\n",
    "et_big_cv_results"
   ],
   "id": "256de02b3161db3a",
   "outputs": [
    {
     "data": {
      "text/plain": [
       "{'fit_time': array([0.13565564, 0.11000848, 0.12187576, 0.11840248, 0.11287451,\n",
       "        0.11218262, 0.11572003, 0.11275482, 0.11319089, 0.11164999]),\n",
       " 'score_time': array([0.00510478, 0.00486374, 0.00539708, 0.00493836, 0.00486422,\n",
       "        0.00502729, 0.00494742, 0.00549579, 0.00538063, 0.00501084]),\n",
       " 'test_score': array([0.91, 0.95, 0.87, 0.92, 0.9 , 0.89, 0.94, 0.96, 0.91, 0.94]),\n",
       " 'train_score': array([1., 1., 1., 1., 1., 1., 1., 1., 1., 1.])}"
      ]
     },
     "execution_count": 14,
     "metadata": {},
     "output_type": "execute_result"
    }
   ],
   "execution_count": 14
  },
  {
   "metadata": {
    "ExecuteTime": {
     "end_time": "2024-09-09T13:33:49.907551Z",
     "start_time": "2024-09-09T13:33:49.901437Z"
    }
   },
   "cell_type": "code",
   "source": "et_big_cv_results[\"test_score\"].mean()",
   "id": "72d67b290d13681c",
   "outputs": [
    {
     "data": {
      "text/plain": [
       "0.9189999999999999"
      ]
     },
     "execution_count": 15,
     "metadata": {},
     "output_type": "execute_result"
    }
   ],
   "execution_count": 15
  },
  {
   "metadata": {},
   "cell_type": "code",
   "outputs": [],
   "execution_count": null,
   "source": "",
   "id": "a365db7d54f7fb02"
  }
 ],
 "metadata": {
  "kernelspec": {
   "display_name": "Python 3",
   "language": "python",
   "name": "python3"
  },
  "language_info": {
   "codemirror_mode": {
    "name": "ipython",
    "version": 2
   },
   "file_extension": ".py",
   "mimetype": "text/x-python",
   "name": "python",
   "nbconvert_exporter": "python",
   "pygments_lexer": "ipython2",
   "version": "2.7.6"
  }
 },
 "nbformat": 4,
 "nbformat_minor": 5
}
